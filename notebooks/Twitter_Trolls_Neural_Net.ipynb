{
 "cells": [
  {
   "cell_type": "code",
   "execution_count": 1,
   "metadata": {},
   "outputs": [
    {
     "name": "stderr",
     "output_type": "stream",
     "text": [
      "C:\\Users\\Abhimanyu\\Miniconda3\\envs\\pytorch\\lib\\site-packages\\h5py\\__init__.py:36: FutureWarning: Conversion of the second argument of issubdtype from `float` to `np.floating` is deprecated. In future, it will be treated as `np.float64 == np.dtype(float).type`.\n",
      "  from ._conv import register_converters as _register_converters\n"
     ]
    }
   ],
   "source": [
    "# import stuff\n",
    "%load_ext autoreload\n",
    "%autoreload 2\n",
    "%matplotlib inline\n",
    "\n",
    "from random import randint\n",
    "import h5py\n",
    "from tqdm import tqdm_notebook as tqdm\n",
    "\n",
    "import numpy as np\n",
    "import torch\n",
    "import json\n",
    "import pandas as pd\n",
    "import glob\n",
    "import os\n",
    "\n",
    "import tweepy\n",
    "import sys\n",
    "import jsonpickle\n",
    "from sklearn.model_selection import train_test_split\n",
    "\n",
    "# Pytorch\n",
    "import torch.nn as nn\n",
    "import torch.nn.functional as F\n",
    "from torch.optim import SGD\n",
    "from torch.autograd import Variable\n",
    "device = torch.device(\"cuda:0\" if torch.cuda.is_available() else \"cpu\")"
   ]
  },
  {
   "cell_type": "code",
   "execution_count": 2,
   "metadata": {},
   "outputs": [],
   "source": [
    "import sys\n",
    "sys.path.insert(0, 'C:\\\\Users\\\\Abhimanyu\\\\Documents\\\\Coding\\\\Twitter_AC209a\\\\group\\\\troll_classification')\n",
    "# print(sys.path)"
   ]
  },
  {
   "cell_type": "code",
   "execution_count": 3,
   "metadata": {},
   "outputs": [
    {
     "name": "stdout",
     "output_type": "stream",
     "text": [
      "Vocab size : 10000\n"
     ]
    }
   ],
   "source": [
    "# InferSent setup\n",
    "from InferSent.models import *\n",
    "model_version = 1\n",
    "MODEL_PATH = \"../InferSent/encoder/infersent%s.pkl\" % model_version\n",
    "params_model = {'bsize': 64, 'word_emb_dim': 300, 'enc_lstm_dim': 2048,\n",
    "                'pool_type': 'max', 'dpout_model': 0.0, 'version': model_version}\n",
    "model = InferSent(params_model)\n",
    "model.load_state_dict(torch.load(MODEL_PATH))\n",
    "\n",
    "# Keep it on CPU or put it on GPU\n",
    "use_cuda = False\n",
    "model = model.cuda() if use_cuda else model\n",
    "\n",
    "# If infersent1 -> use GloVe embeddings. If infersent2 -> use InferSent embeddings.\n",
    "W2V_PATH = '../InferSent/dataset/GloVe/glove.840B.300d.txt' if model_version == 1 else '../dataset/fastText/crawl-300d-2M.vec'\n",
    "model.set_w2v_path(W2V_PATH)\n",
    "\n",
    "# Load embeddings of K most frequent words\n",
    "model.build_vocab_k_words(K=10000)"
   ]
  },
  {
   "cell_type": "code",
   "execution_count": 7,
   "metadata": {},
   "outputs": [],
   "source": [
    "def GetEmbeddings(sentences, batch_size=128, verbose=False):\n",
    "    embeddings = model.encode(sentences, bsize=batch_size, tokenize=False, verbose=verbose)\n",
    "    if verbose: print('nb sentences encoded : {0}'.format(len(embeddings)))\n",
    "    return embeddings\n",
    "\n",
    "def GetBatch(df, X, y, batch_size=128):\n",
    "    df_size = len(df)\n",
    "    for counter in range(int(len(df)/batch_size)+1):\n",
    "        yield df[X].iloc[counter*batch_size:min((counter + 1)*batch_size, len(df))], \\\n",
    "        df[y].iloc[counter*batch_size:min((counter + 1)*batch_size, len(df))]"
   ]
  },
  {
   "cell_type": "markdown",
   "metadata": {},
   "source": [
    "# Prepare Non-Troll Data"
   ]
  },
  {
   "cell_type": "code",
   "execution_count": null,
   "metadata": {},
   "outputs": [],
   "source": [
    "non_troll_file = './data/non_trolls.csv'\n",
    "troll_file = './data/trolls.csv'"
   ]
  },
  {
   "cell_type": "code",
   "execution_count": null,
   "metadata": {},
   "outputs": [],
   "source": [
    "non_troll_df = pd.read_csv(non_troll_file)"
   ]
  },
  {
   "cell_type": "code",
   "execution_count": null,
   "metadata": {},
   "outputs": [],
   "source": [
    "print('Top 10 languages used by non-trolls:')\n",
    "non_troll_df.groupby('lang').agg({'id' : 'count'}).sort_values(by='id', ascending=False).rename(columns={'id' : 'Count'}).head(10)"
   ]
  },
  {
   "cell_type": "code",
   "execution_count": null,
   "metadata": {},
   "outputs": [],
   "source": [
    "non_troll_en_df = non_troll_df.loc[non_troll_df.lang == 'en']\n",
    "len(non_troll_en_df)"
   ]
  },
  {
   "cell_type": "code",
   "execution_count": null,
   "metadata": {},
   "outputs": [],
   "source": [
    "num_samples = 20000\n",
    "non_troll_sample_df = non_troll_en_df.sample(num_samples)\n",
    "non_troll_sample_df['is_troll'] = 0"
   ]
  },
  {
   "cell_type": "code",
   "execution_count": null,
   "metadata": {},
   "outputs": [],
   "source": [
    "non_troll_text_df = non_troll_sample_df[['text', 'is_troll']]"
   ]
  },
  {
   "cell_type": "markdown",
   "metadata": {},
   "source": [
    "# Prepare Troll Data"
   ]
  },
  {
   "cell_type": "code",
   "execution_count": 15,
   "metadata": {},
   "outputs": [],
   "source": [
    "# troll_df = pd.read_csv('./russian-troll-tweets/trolls_2016_en.csv')"
   ]
  },
  {
   "cell_type": "code",
   "execution_count": null,
   "metadata": {},
   "outputs": [],
   "source": [
    "troll_sample_df = troll_df.sample(num_samples)\n",
    "troll_sample_df['is_troll'] = 1\n",
    "troll_sample_df.rename(columns={'content' : 'text'}, inplace=True)\n",
    "troll_text_df = troll_sample_df[['text', 'is_troll']]"
   ]
  },
  {
   "cell_type": "markdown",
   "metadata": {},
   "source": [
    "## Read Data"
   ]
  },
  {
   "cell_type": "code",
   "execution_count": 17,
   "metadata": {},
   "outputs": [],
   "source": [
    "in_file = '../data/merged_troll_data.json'\n",
    "data_df = pd.read_json(in_file)"
   ]
  },
  {
   "cell_type": "code",
   "execution_count": 18,
   "metadata": {},
   "outputs": [
    {
     "data": {
      "text/html": [
       "<div>\n",
       "<style scoped>\n",
       "    .dataframe tbody tr th:only-of-type {\n",
       "        vertical-align: middle;\n",
       "    }\n",
       "\n",
       "    .dataframe tbody tr th {\n",
       "        vertical-align: top;\n",
       "    }\n",
       "\n",
       "    .dataframe thead th {\n",
       "        text-align: right;\n",
       "    }\n",
       "</style>\n",
       "<table border=\"1\" class=\"dataframe\">\n",
       "  <thead>\n",
       "    <tr style=\"text-align: right;\">\n",
       "      <th></th>\n",
       "      <th>content</th>\n",
       "      <th>followers</th>\n",
       "      <th>following</th>\n",
       "      <th>retweet</th>\n",
       "      <th>account_category</th>\n",
       "      <th>created_at</th>\n",
       "      <th>troll</th>\n",
       "      <th>orig_index</th>\n",
       "    </tr>\n",
       "  </thead>\n",
       "  <tbody>\n",
       "    <tr>\n",
       "      <th>count</th>\n",
       "      <td>332504</td>\n",
       "      <td>3.325040e+05</td>\n",
       "      <td>332504.000000</td>\n",
       "      <td>332504.000000</td>\n",
       "      <td>332504</td>\n",
       "      <td>332504</td>\n",
       "      <td>332504</td>\n",
       "      <td>332504.000000</td>\n",
       "    </tr>\n",
       "    <tr>\n",
       "      <th>unique</th>\n",
       "      <td>264783</td>\n",
       "      <td>NaN</td>\n",
       "      <td>NaN</td>\n",
       "      <td>NaN</td>\n",
       "      <td>3</td>\n",
       "      <td>206846</td>\n",
       "      <td>2</td>\n",
       "      <td>NaN</td>\n",
       "    </tr>\n",
       "    <tr>\n",
       "      <th>top</th>\n",
       "      <td>RT @realDonaldTrump: Here is my statement. htt...</td>\n",
       "      <td>NaN</td>\n",
       "      <td>NaN</td>\n",
       "      <td>NaN</td>\n",
       "      <td>NonTroll</td>\n",
       "      <td>2016-10-07 07:48:00</td>\n",
       "      <td>True</td>\n",
       "      <td>NaN</td>\n",
       "    </tr>\n",
       "    <tr>\n",
       "      <th>freq</th>\n",
       "      <td>298</td>\n",
       "      <td>NaN</td>\n",
       "      <td>NaN</td>\n",
       "      <td>NaN</td>\n",
       "      <td>166252</td>\n",
       "      <td>85</td>\n",
       "      <td>166252</td>\n",
       "      <td>NaN</td>\n",
       "    </tr>\n",
       "    <tr>\n",
       "      <th>first</th>\n",
       "      <td>NaN</td>\n",
       "      <td>NaN</td>\n",
       "      <td>NaN</td>\n",
       "      <td>NaN</td>\n",
       "      <td>NaN</td>\n",
       "      <td>2016-07-01 00:00:00</td>\n",
       "      <td>NaN</td>\n",
       "      <td>NaN</td>\n",
       "    </tr>\n",
       "    <tr>\n",
       "      <th>last</th>\n",
       "      <td>NaN</td>\n",
       "      <td>NaN</td>\n",
       "      <td>NaN</td>\n",
       "      <td>NaN</td>\n",
       "      <td>NaN</td>\n",
       "      <td>2016-11-10 18:35:32</td>\n",
       "      <td>NaN</td>\n",
       "      <td>NaN</td>\n",
       "    </tr>\n",
       "    <tr>\n",
       "      <th>mean</th>\n",
       "      <td>NaN</td>\n",
       "      <td>7.935872e+03</td>\n",
       "      <td>3008.364465</td>\n",
       "      <td>0.740890</td>\n",
       "      <td>NaN</td>\n",
       "      <td>NaN</td>\n",
       "      <td>NaN</td>\n",
       "      <td>177103.724776</td>\n",
       "    </tr>\n",
       "    <tr>\n",
       "      <th>std</th>\n",
       "      <td>NaN</td>\n",
       "      <td>2.066285e+05</td>\n",
       "      <td>7711.247498</td>\n",
       "      <td>0.438147</td>\n",
       "      <td>NaN</td>\n",
       "      <td>NaN</td>\n",
       "      <td>NaN</td>\n",
       "      <td>165772.625588</td>\n",
       "    </tr>\n",
       "    <tr>\n",
       "      <th>min</th>\n",
       "      <td>NaN</td>\n",
       "      <td>0.000000e+00</td>\n",
       "      <td>0.000000</td>\n",
       "      <td>0.000000</td>\n",
       "      <td>NaN</td>\n",
       "      <td>NaN</td>\n",
       "      <td>NaN</td>\n",
       "      <td>0.000000</td>\n",
       "    </tr>\n",
       "    <tr>\n",
       "      <th>25%</th>\n",
       "      <td>NaN</td>\n",
       "      <td>6.120000e+02</td>\n",
       "      <td>541.000000</td>\n",
       "      <td>0.000000</td>\n",
       "      <td>NaN</td>\n",
       "      <td>NaN</td>\n",
       "      <td>NaN</td>\n",
       "      <td>42472.000000</td>\n",
       "    </tr>\n",
       "    <tr>\n",
       "      <th>50%</th>\n",
       "      <td>NaN</td>\n",
       "      <td>1.144000e+03</td>\n",
       "      <td>1135.000000</td>\n",
       "      <td>1.000000</td>\n",
       "      <td>NaN</td>\n",
       "      <td>NaN</td>\n",
       "      <td>NaN</td>\n",
       "      <td>117701.500000</td>\n",
       "    </tr>\n",
       "    <tr>\n",
       "      <th>75%</th>\n",
       "      <td>NaN</td>\n",
       "      <td>2.431000e+03</td>\n",
       "      <td>2293.000000</td>\n",
       "      <td>1.000000</td>\n",
       "      <td>NaN</td>\n",
       "      <td>NaN</td>\n",
       "      <td>NaN</td>\n",
       "      <td>292016.750000</td>\n",
       "    </tr>\n",
       "    <tr>\n",
       "      <th>max</th>\n",
       "      <td>NaN</td>\n",
       "      <td>4.086668e+07</td>\n",
       "      <td>680956.000000</td>\n",
       "      <td>1.000000</td>\n",
       "      <td>NaN</td>\n",
       "      <td>NaN</td>\n",
       "      <td>NaN</td>\n",
       "      <td>651703.000000</td>\n",
       "    </tr>\n",
       "  </tbody>\n",
       "</table>\n",
       "</div>"
      ],
      "text/plain": [
       "                                                  content     followers  \\\n",
       "count                                              332504  3.325040e+05   \n",
       "unique                                             264783           NaN   \n",
       "top     RT @realDonaldTrump: Here is my statement. htt...           NaN   \n",
       "freq                                                  298           NaN   \n",
       "first                                                 NaN           NaN   \n",
       "last                                                  NaN           NaN   \n",
       "mean                                                  NaN  7.935872e+03   \n",
       "std                                                   NaN  2.066285e+05   \n",
       "min                                                   NaN  0.000000e+00   \n",
       "25%                                                   NaN  6.120000e+02   \n",
       "50%                                                   NaN  1.144000e+03   \n",
       "75%                                                   NaN  2.431000e+03   \n",
       "max                                                   NaN  4.086668e+07   \n",
       "\n",
       "            following        retweet account_category           created_at  \\\n",
       "count   332504.000000  332504.000000           332504               332504   \n",
       "unique            NaN            NaN                3               206846   \n",
       "top               NaN            NaN         NonTroll  2016-10-07 07:48:00   \n",
       "freq              NaN            NaN           166252                   85   \n",
       "first             NaN            NaN              NaN  2016-07-01 00:00:00   \n",
       "last              NaN            NaN              NaN  2016-11-10 18:35:32   \n",
       "mean      3008.364465       0.740890              NaN                  NaN   \n",
       "std       7711.247498       0.438147              NaN                  NaN   \n",
       "min          0.000000       0.000000              NaN                  NaN   \n",
       "25%        541.000000       0.000000              NaN                  NaN   \n",
       "50%       1135.000000       1.000000              NaN                  NaN   \n",
       "75%       2293.000000       1.000000              NaN                  NaN   \n",
       "max     680956.000000       1.000000              NaN                  NaN   \n",
       "\n",
       "         troll     orig_index  \n",
       "count   332504  332504.000000  \n",
       "unique       2            NaN  \n",
       "top       True            NaN  \n",
       "freq    166252            NaN  \n",
       "first      NaN            NaN  \n",
       "last       NaN            NaN  \n",
       "mean       NaN  177103.724776  \n",
       "std        NaN  165772.625588  \n",
       "min        NaN       0.000000  \n",
       "25%        NaN   42472.000000  \n",
       "50%        NaN  117701.500000  \n",
       "75%        NaN  292016.750000  \n",
       "max        NaN  651703.000000  "
      ]
     },
     "execution_count": 18,
     "metadata": {},
     "output_type": "execute_result"
    }
   ],
   "source": [
    "# Describe of whole dataframe\n",
    "data_df.describe(include='all')"
   ]
  },
  {
   "cell_type": "code",
   "execution_count": 25,
   "metadata": {},
   "outputs": [
    {
     "name": "stdout",
     "output_type": "stream",
     "text": [
      "Retweet [1 0]\n",
      "Acccount Category ['LeftTroll' 'RightTroll' 'NonTroll']\n"
     ]
    }
   ],
   "source": [
    "# Add dummy columns for categorical variables\n",
    "print('Unique values for column Retweet:', data_df.retweet.unique())\n",
    "print('Unique values for column Acccount Category:', data_df.account_category.unique())"
   ]
  },
  {
   "cell_type": "code",
   "execution_count": 26,
   "metadata": {},
   "outputs": [
    {
     "data": {
      "text/plain": [
       "['content',\n",
       " 'followers',\n",
       " 'following',\n",
       " 'retweet',\n",
       " 'created_at',\n",
       " 'troll',\n",
       " 'orig_index',\n",
       " 'Orig_account_category',\n",
       " 'account_category_LeftTroll',\n",
       " 'account_category_NonTroll',\n",
       " 'account_category_RightTroll']"
      ]
     },
     "execution_count": 26,
     "metadata": {},
     "output_type": "execute_result"
    }
   ],
   "source": [
    "dummy_cols = ['account_category']\n",
    "for col in dummy_cols:\n",
    "    data_df['Orig_' + col] = data_df[col]\n",
    "    data_df = pd.get_dummies(data_df, columns=[col])\n",
    "list(data_df.columns)"
   ]
  },
  {
   "cell_type": "code",
   "execution_count": 28,
   "metadata": {},
   "outputs": [
    {
     "data": {
      "text/html": [
       "<div>\n",
       "<style scoped>\n",
       "    .dataframe tbody tr th:only-of-type {\n",
       "        vertical-align: middle;\n",
       "    }\n",
       "\n",
       "    .dataframe tbody tr th {\n",
       "        vertical-align: top;\n",
       "    }\n",
       "\n",
       "    .dataframe thead th {\n",
       "        text-align: right;\n",
       "    }\n",
       "</style>\n",
       "<table border=\"1\" class=\"dataframe\">\n",
       "  <thead>\n",
       "    <tr style=\"text-align: right;\">\n",
       "      <th></th>\n",
       "      <th>random</th>\n",
       "      <th>temporal</th>\n",
       "    </tr>\n",
       "  </thead>\n",
       "  <tbody>\n",
       "    <tr>\n",
       "      <th>test</th>\n",
       "      <td>[39006, 13901, 54474, 53049, 47299, 59510, 236...</td>\n",
       "      <td>[88515, 145011, 308314, 163777, 165182, 165183...</td>\n",
       "    </tr>\n",
       "    <tr>\n",
       "      <th>train</th>\n",
       "      <td>[115587, 272344, 110764, 17462, 161923, 109189...</td>\n",
       "      <td>[54215, 140798, 157319, 47942, 140799, 157320,...</td>\n",
       "    </tr>\n",
       "    <tr>\n",
       "      <th>val</th>\n",
       "      <td>[282180, 316618, 291427, 234801, 273642, 66628...</td>\n",
       "      <td>[286589, 289599, 296694, 287370, 150894, 28757...</td>\n",
       "    </tr>\n",
       "  </tbody>\n",
       "</table>\n",
       "</div>"
      ],
      "text/plain": [
       "                                                  random  \\\n",
       "test   [39006, 13901, 54474, 53049, 47299, 59510, 236...   \n",
       "train  [115587, 272344, 110764, 17462, 161923, 109189...   \n",
       "val    [282180, 316618, 291427, 234801, 273642, 66628...   \n",
       "\n",
       "                                                temporal  \n",
       "test   [88515, 145011, 308314, 163777, 165182, 165183...  \n",
       "train  [54215, 140798, 157319, 47942, 140799, 157320,...  \n",
       "val    [286589, 289599, 296694, 287370, 150894, 28757...  "
      ]
     },
     "execution_count": 28,
     "metadata": {},
     "output_type": "execute_result"
    }
   ],
   "source": [
    "# Read the indices file\n",
    "index_file = '../data/train_test_inds.json'\n",
    "idx_df = pd.read_json(index_file)\n",
    "idx_df.head()"
   ]
  },
  {
   "cell_type": "code",
   "execution_count": 35,
   "metadata": {},
   "outputs": [
    {
     "data": {
      "text/plain": [
       "33250"
      ]
     },
     "execution_count": 35,
     "metadata": {},
     "output_type": "execute_result"
    }
   ],
   "source": [
    "def PrepareDataSplits(mode='random', batch_size=128):\n",
    "    TEST_NUM = 0\n",
    "    TRAIN_NUM = 1\n",
    "    VAL_NUM = 2\n",
    "    all_idx = list(idx_df[mode])\n",
    "    sets = ['test', 'train', 'val']\n",
    "    \n",
    "    # Standardize continuous columns based on train set statistics\n",
    "    train_df = data_df.iloc[all_idx[TRAIN_NUM]]\n",
    "    val_df = data_df.iloc[all_idx[VAL_NUM]]\n",
    "    test_df = data_df.iloc[all_idx[TEST_NUM]]\n",
    "    \n",
    "    cols_to_standardize = ['folowers', 'following']\n",
    "    for col in cols_to_standardize:\n",
    "        train_mean = train_df[col].mean()\n",
    "        train_std = train_df[col].std()\n",
    "        for df in [train_df, val_df, test_df]:\n",
    "            df[col] = (df[col] - train_mean)/train_std\n",
    "\n",
    "    # Compute embeddins, concatenate with other features, and write to h5py files\n",
    "    for idx, set_type in enumerate(sets):\n",
    "        embed_file = '../data/' + set_type + '_embeddings_mode_' + mode + '.h5py'\n",
    "        pbar = tqdm(total=len(indices))\n",
    "        with h5py.File(embed_file, \"a\") as f:\n",
    "            embed_dset = f.create_dataset('features', (num_tweets, 4096))\n",
    "            response_dset = f.create_dataset('is_troll', (num_tweets,))\n",
    "    "
   ]
  },
  {
   "cell_type": "markdown",
   "metadata": {},
   "source": [
    "# Combine Data and Write to h5py"
   ]
  },
  {
   "cell_type": "code",
   "execution_count": null,
   "metadata": {},
   "outputs": [],
   "source": [
    "text_df = pd.concat([non_troll_text_df, troll_text_df], axis=0)"
   ]
  },
  {
   "cell_type": "code",
   "execution_count": null,
   "metadata": {},
   "outputs": [],
   "source": [
    "# Write embeddings to h5py file\n",
    "embed_file = './data/embeddings.h5' \n",
    "num_tweets = len(text_df)\n",
    "batch_size = 128\n",
    "pbar = tqdm(total=num_tweets)\n",
    "with h5py.File(embed_file, \"a\") as f:\n",
    "    embed_dset = f.create_dataset('features', (num_tweets, 4096))\n",
    "    response_dset = f.create_dataset('is_troll', (num_tweets,))\n",
    "    counter = 0\n",
    "    for batch in GetBatch(text_df, 'text', 'is_troll', batch_size=batch_size):\n",
    "        embeddings_  = GetEmbeddings(batch[0].values, batch_size=batch_size)\n",
    "        is_troll_ = batch[1].values\n",
    "        num_tweets = batch[0].shape[0]\n",
    "        embed_dset[counter:(counter + num_tweets)] = embeddings_\n",
    "        response_dset[counter:(counter + num_tweets)] = is_troll_\n",
    "        counter += num_tweets\n",
    "        pbar.update(num_tweets)"
   ]
  },
  {
   "cell_type": "code",
   "execution_count": null,
   "metadata": {},
   "outputs": [],
   "source": [
    "# Read h5py file\n",
    "with h5py.File(embed_file, \"r\") as f:\n",
    "    keys = list(f.keys())\n",
    "    X = np.array(f[keys[0]])\n",
    "    y = np.array(f[keys[1]])"
   ]
  },
  {
   "cell_type": "code",
   "execution_count": null,
   "metadata": {},
   "outputs": [],
   "source": [
    "test_size = 0.1\n",
    "X_train, X_test, y_train, y_test = train_test_split(X, y, test_size=test_size, random_state=42)"
   ]
  },
  {
   "cell_type": "code",
   "execution_count": null,
   "metadata": {},
   "outputs": [],
   "source": [
    "def ShuffleArrays(X, y):\n",
    "    arr = np.arange(X.shape[0])\n",
    "    np.random.shuffle(arr)\n",
    "    X = X[arr,:]\n",
    "    y = y[arr]\n",
    "    return X, y\n",
    "def GetTrainBatches(X, y, batch_size=256):\n",
    "    data_len = X.shape[0]\n",
    "    for counter in range(int(data_len/batch_size)+1):\n",
    "        yield X[counter*batch_size:min((counter + 1)*batch_size, data_len), :], \\\n",
    "        y[counter*batch_size:min((counter + 1)*batch_size, data_len)]"
   ]
  },
  {
   "cell_type": "code",
   "execution_count": null,
   "metadata": {},
   "outputs": [],
   "source": [
    "class TwitterNet(nn.Module):\n",
    "    def __init__(self, num_classes):\n",
    "        super(TwitterNet, self).__init__()\n",
    "        self.fc1 = nn.Linear(4096,1024)\n",
    "        self.drop1 = nn.Dropout()\n",
    "        self.fc2 = nn.Linear(1024,512)\n",
    "        self.fc3 = nn.Linear(512,128)\n",
    "        self.fc4 = nn.Linear(128,num_classes)\n",
    "    def forward(self, x):\n",
    "        x = F.relu(self.fc1(x))\n",
    "        x = self.drop1(x)\n",
    "        x = F.relu(self.fc2(x))\n",
    "        x = F.relu(self.fc3(x))\n",
    "        x = self.fc4(x)\n",
    "        return x"
   ]
  },
  {
   "cell_type": "code",
   "execution_count": null,
   "metadata": {},
   "outputs": [],
   "source": [
    "X_train = Variable(torch.FloatTensor(X_train))\n",
    "y_train = Variable(torch.FloatTensor(y_train))\n",
    "X_test = Variable(torch.FloatTensor(X_test))\n",
    "y_test = Variable(torch.FloatTensor(y_test))"
   ]
  },
  {
   "cell_type": "code",
   "execution_count": null,
   "metadata": {},
   "outputs": [],
   "source": [
    "criterion = nn.CrossEntropyLoss()\n",
    "model_net = TwitterNet(2).to(device)\n",
    "optimizer = SGD(model_net.parameters(), lr = 0.1, momentum=0.9)\n",
    "num_epochs = 15\n",
    "batch_size = 256"
   ]
  },
  {
   "cell_type": "code",
   "execution_count": null,
   "metadata": {},
   "outputs": [],
   "source": [
    "# Check accuracy on untrained network (with randomly initialized weights)\n",
    "torch.set_grad_enabled(False)\n",
    "running_corrects = 0\n",
    "for inputs, labels in GetTrainBatches(X_test, y_test, batch_size):\n",
    "    inputs = inputs.to(device)\n",
    "    labels = labels.to(device)\n",
    "    outputs = model_net(inputs)\n",
    "    _, preds = torch.max(outputs, 1)\n",
    "    running_corrects += torch.sum(preds == labels.long().data)\n",
    "val_acc = running_corrects.double()/X_test.shape[0]\n",
    "torch.set_grad_enabled(True)\n",
    "print('Validation Accuracy on untrained net is {:.2%}'.format(val_acc))"
   ]
  },
  {
   "cell_type": "code",
   "execution_count": null,
   "metadata": {},
   "outputs": [],
   "source": [
    "torch.set_grad_enabled(True)\n",
    "for epoch in range(num_epochs):\n",
    "    X_train, y_train = ShuffleArrays(X_train, y_train)\n",
    "    running_loss = 0.0\n",
    "    train_corrects = 0\n",
    "    for inputs, labels in GetTrainBatches(X_train, y_train, batch_size):\n",
    "        inputs = inputs.to(device)\n",
    "        labels = labels.to(device)\n",
    "        # zero the parameter gradients\n",
    "        optimizer.zero_grad()\n",
    "        \n",
    "        # forward pass\n",
    "        outputs = model_net(inputs)\n",
    "        loss = criterion(outputs, labels.long())\n",
    "        _, preds = torch.max(outputs, 1)\n",
    "        train_corrects += torch.sum(preds == labels.long().data)\n",
    "        \n",
    "        # backward pass\n",
    "        loss.backward()\n",
    "        optimizer.step()\n",
    "        running_loss += loss.item()\n",
    "    \n",
    "    # Validation set accuracy\n",
    "    train_acc = train_corrects.double()/X_train.shape[0]\n",
    "    torch.set_grad_enabled(False)\n",
    "    running_corrects = 0\n",
    "    for inputs, labels in GetTrainBatches(X_test, y_test, batch_size):\n",
    "        inputs = inputs.to(device)\n",
    "        labels = labels.to(device)\n",
    "        outputs = model_net(inputs)\n",
    "        _, preds = torch.max(outputs, 1)\n",
    "        running_corrects += torch.sum(preds == labels.long().data)\n",
    "    val_acc = running_corrects.double()/X_test.shape[0]\n",
    "    torch.set_grad_enabled(True)\n",
    "    print('Loss after epoch {} is {:.3f}. Train Acc. is {:.2%} and Validation Acc. is {:.2%}'.\\\n",
    "          format(epoch+1, running_loss, train_acc, val_acc))"
   ]
  },
  {
   "cell_type": "code",
   "execution_count": null,
   "metadata": {},
   "outputs": [],
   "source": [
    "# Check accuracy on trained network\n",
    "torch.set_grad_enabled(False)\n",
    "running_corrects = 0\n",
    "for inputs, labels in GetTrainBatches(X_test, y_test, batch_size):\n",
    "    inputs = inputs.to(device)\n",
    "    labels = labels.to(device)\n",
    "    outputs = model_net(inputs)\n",
    "    _, preds = torch.max(outputs, 1)\n",
    "    running_corrects += torch.sum(preds == labels.long().data)\n",
    "val_acc = running_corrects.double()/X_test.shape[0]\n",
    "torch.set_grad_enabled(True)\n",
    "print('Validation Accuracy on untrained net is {:.2%}'.format(val_acc))"
   ]
  },
  {
   "cell_type": "code",
   "execution_count": null,
   "metadata": {},
   "outputs": [],
   "source": [
    "np.sum(y_test[0:100]"
   ]
  },
  {
   "cell_type": "code",
   "execution_count": null,
   "metadata": {},
   "outputs": [],
   "source": []
  }
 ],
 "metadata": {
  "kernelspec": {
   "display_name": "Python (pytorch)",
   "language": "python",
   "name": "pytorch"
  },
  "language_info": {
   "codemirror_mode": {
    "name": "ipython",
    "version": 3
   },
   "file_extension": ".py",
   "mimetype": "text/x-python",
   "name": "python",
   "nbconvert_exporter": "python",
   "pygments_lexer": "ipython3",
   "version": "3.6.5"
  }
 },
 "nbformat": 4,
 "nbformat_minor": 2
}
