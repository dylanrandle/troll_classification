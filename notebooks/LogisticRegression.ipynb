{
 "cells": [
  {
   "cell_type": "code",
   "execution_count": 1,
   "metadata": {},
   "outputs": [
    {
     "name": "stderr",
     "output_type": "stream",
     "text": [
      "/anaconda3/lib/python3.6/importlib/_bootstrap.py:219: RuntimeWarning: numpy.dtype size changed, may indicate binary incompatibility. Expected 96, got 88\n",
      "  return f(*args, **kwds)\n",
      "/anaconda3/lib/python3.6/importlib/_bootstrap.py:219: RuntimeWarning: numpy.dtype size changed, may indicate binary incompatibility. Expected 96, got 88\n",
      "  return f(*args, **kwds)\n",
      "/anaconda3/lib/python3.6/importlib/_bootstrap.py:219: RuntimeWarning: numpy.dtype size changed, may indicate binary incompatibility. Expected 96, got 88\n",
      "  return f(*args, **kwds)\n"
     ]
    }
   ],
   "source": [
    "import pandas as pd\n",
    "import numpy as np\n",
    "from sklearn import feature_extraction\n",
    "from sklearn import linear_model\n",
    "from sklearn import preprocessing\n",
    "from scipy import sparse"
   ]
  },
  {
   "cell_type": "markdown",
   "metadata": {},
   "source": [
    "## Load Data and Train/Test Split(s)"
   ]
  },
  {
   "cell_type": "code",
   "execution_count": 2,
   "metadata": {},
   "outputs": [],
   "source": [
    "df=pd.read_json(\"../data/merged_troll_data.json\")"
   ]
  },
  {
   "cell_type": "code",
   "execution_count": 3,
   "metadata": {},
   "outputs": [
    {
     "data": {
      "text/plain": [
       "(332504, 8)"
      ]
     },
     "execution_count": 3,
     "metadata": {},
     "output_type": "execute_result"
    }
   ],
   "source": [
    "df.shape"
   ]
  },
  {
   "cell_type": "code",
   "execution_count": 4,
   "metadata": {},
   "outputs": [
    {
     "data": {
      "text/html": [
       "<div>\n",
       "<style scoped>\n",
       "    .dataframe tbody tr th:only-of-type {\n",
       "        vertical-align: middle;\n",
       "    }\n",
       "\n",
       "    .dataframe tbody tr th {\n",
       "        vertical-align: top;\n",
       "    }\n",
       "\n",
       "    .dataframe thead th {\n",
       "        text-align: right;\n",
       "    }\n",
       "</style>\n",
       "<table border=\"1\" class=\"dataframe\">\n",
       "  <thead>\n",
       "    <tr style=\"text-align: right;\">\n",
       "      <th></th>\n",
       "      <th>content</th>\n",
       "      <th>followers</th>\n",
       "      <th>following</th>\n",
       "      <th>retweet</th>\n",
       "      <th>account_category</th>\n",
       "      <th>created_at</th>\n",
       "      <th>troll</th>\n",
       "      <th>orig_index</th>\n",
       "    </tr>\n",
       "  </thead>\n",
       "  <tbody>\n",
       "    <tr>\n",
       "      <th>323796</th>\n",
       "      <td>RT @realDonaldTrump: Here are Hillary Clinton'...</td>\n",
       "      <td>3346</td>\n",
       "      <td>4064</td>\n",
       "      <td>1</td>\n",
       "      <td>NonTroll</td>\n",
       "      <td>2016-10-10 06:19:52</td>\n",
       "      <td>False</td>\n",
       "      <td>562329</td>\n",
       "    </tr>\n",
       "    <tr>\n",
       "      <th>328722</th>\n",
       "      <td>He’s voting for me over Trump, but don’t tell ...</td>\n",
       "      <td>7318</td>\n",
       "      <td>6312</td>\n",
       "      <td>0</td>\n",
       "      <td>NonTroll</td>\n",
       "      <td>2016-08-02 01:37:11</td>\n",
       "      <td>False</td>\n",
       "      <td>52670</td>\n",
       "    </tr>\n",
       "    <tr>\n",
       "      <th>59203</th>\n",
       "      <td>The truth he spoke https://t.co/QoXu4wVo42</td>\n",
       "      <td>802</td>\n",
       "      <td>708</td>\n",
       "      <td>1</td>\n",
       "      <td>LeftTroll</td>\n",
       "      <td>2016-09-08 15:59:00</td>\n",
       "      <td>True</td>\n",
       "      <td>58881</td>\n",
       "    </tr>\n",
       "    <tr>\n",
       "      <th>208580</th>\n",
       "      <td>RT @realDonaldTrump: I was never a fan of Coli...</td>\n",
       "      <td>211</td>\n",
       "      <td>317</td>\n",
       "      <td>1</td>\n",
       "      <td>NonTroll</td>\n",
       "      <td>2016-09-15 04:30:08</td>\n",
       "      <td>False</td>\n",
       "      <td>16964</td>\n",
       "    </tr>\n",
       "    <tr>\n",
       "      <th>251418</th>\n",
       "      <td>RT @jennmcallister: Do women who support Trump...</td>\n",
       "      <td>226</td>\n",
       "      <td>378</td>\n",
       "      <td>1</td>\n",
       "      <td>NonTroll</td>\n",
       "      <td>2016-10-08 04:15:51</td>\n",
       "      <td>False</td>\n",
       "      <td>38252</td>\n",
       "    </tr>\n",
       "  </tbody>\n",
       "</table>\n",
       "</div>"
      ],
      "text/plain": [
       "                                                  content  followers  \\\n",
       "323796  RT @realDonaldTrump: Here are Hillary Clinton'...       3346   \n",
       "328722  He’s voting for me over Trump, but don’t tell ...       7318   \n",
       "59203          The truth he spoke https://t.co/QoXu4wVo42        802   \n",
       "208580  RT @realDonaldTrump: I was never a fan of Coli...        211   \n",
       "251418  RT @jennmcallister: Do women who support Trump...        226   \n",
       "\n",
       "        following  retweet account_category          created_at  troll  \\\n",
       "323796       4064        1         NonTroll 2016-10-10 06:19:52  False   \n",
       "328722       6312        0         NonTroll 2016-08-02 01:37:11  False   \n",
       "59203         708        1        LeftTroll 2016-09-08 15:59:00   True   \n",
       "208580        317        1         NonTroll 2016-09-15 04:30:08  False   \n",
       "251418        378        1         NonTroll 2016-10-08 04:15:51  False   \n",
       "\n",
       "        orig_index  \n",
       "323796      562329  \n",
       "328722       52670  \n",
       "59203        58881  \n",
       "208580       16964  \n",
       "251418       38252  "
      ]
     },
     "execution_count": 4,
     "metadata": {},
     "output_type": "execute_result"
    }
   ],
   "source": [
    "df.sample(5).head()"
   ]
  },
  {
   "cell_type": "code",
   "execution_count": 5,
   "metadata": {},
   "outputs": [],
   "source": [
    "ids=pd.read_json(\"../data/train_test_inds.json\")"
   ]
  },
  {
   "cell_type": "code",
   "execution_count": 6,
   "metadata": {},
   "outputs": [
    {
     "data": {
      "text/plain": [
       "266003"
      ]
     },
     "execution_count": 6,
     "metadata": {},
     "output_type": "execute_result"
    }
   ],
   "source": [
    "len(ids.random.train)"
   ]
  },
  {
   "cell_type": "markdown",
   "metadata": {},
   "source": [
    "## Prepare feature matrix"
   ]
  },
  {
   "cell_type": "markdown",
   "metadata": {},
   "source": [
    "### Isolate matrices"
   ]
  },
  {
   "cell_type": "code",
   "execution_count": 7,
   "metadata": {},
   "outputs": [],
   "source": [
    "def getxy(ids, feature_cols=['content', 'followers', 'following', 'retweet'], label_col=['troll']):\n",
    "    return df[feature_cols].iloc[ids], df[label_col].iloc[ids]"
   ]
  },
  {
   "cell_type": "code",
   "execution_count": 8,
   "metadata": {},
   "outputs": [],
   "source": [
    "# random\n",
    "Xrand_train, yrand_train = getxy(ids.random.train)\n",
    "Xrand_val, yrand_val = getxy(ids.random.val)\n",
    "Xrand_test, yrand_test = getxy(ids.random.test)\n",
    "\n",
    "# temporal\n",
    "Xtemp_train, ytemp_train = getxy(ids.temporal.train)\n",
    "Xtemp_val, ytemp_val = getxy(ids.temporal.val)\n",
    "Xtemp_test, ytemp_test = getxy(ids.temporal.test)"
   ]
  },
  {
   "cell_type": "code",
   "execution_count": 9,
   "metadata": {},
   "outputs": [
    {
     "data": {
      "text/html": [
       "<div>\n",
       "<style scoped>\n",
       "    .dataframe tbody tr th:only-of-type {\n",
       "        vertical-align: middle;\n",
       "    }\n",
       "\n",
       "    .dataframe tbody tr th {\n",
       "        vertical-align: top;\n",
       "    }\n",
       "\n",
       "    .dataframe thead th {\n",
       "        text-align: right;\n",
       "    }\n",
       "</style>\n",
       "<table border=\"1\" class=\"dataframe\">\n",
       "  <thead>\n",
       "    <tr style=\"text-align: right;\">\n",
       "      <th></th>\n",
       "      <th>content</th>\n",
       "      <th>followers</th>\n",
       "      <th>following</th>\n",
       "      <th>retweet</th>\n",
       "    </tr>\n",
       "  </thead>\n",
       "  <tbody>\n",
       "    <tr>\n",
       "      <th>204024</th>\n",
       "      <td>RT @businessinsider: OBAMA: The press doesn’t ...</td>\n",
       "      <td>14525</td>\n",
       "      <td>3311</td>\n",
       "      <td>1</td>\n",
       "    </tr>\n",
       "    <tr>\n",
       "      <th>45854</th>\n",
       "      <td>Review: Generation Startup https://t.co/lej8O8...</td>\n",
       "      <td>3086</td>\n",
       "      <td>2387</td>\n",
       "      <td>1</td>\n",
       "    </tr>\n",
       "    <tr>\n",
       "      <th>199686</th>\n",
       "      <td>RT @Kidrambler: @TomiLahren Vote for Gary John...</td>\n",
       "      <td>1117</td>\n",
       "      <td>3742</td>\n",
       "      <td>1</td>\n",
       "    </tr>\n",
       "    <tr>\n",
       "      <th>115712</th>\n",
       "      <td>in interpersonal relations with pple who are m...</td>\n",
       "      <td>936</td>\n",
       "      <td>582</td>\n",
       "      <td>1</td>\n",
       "    </tr>\n",
       "    <tr>\n",
       "      <th>245728</th>\n",
       "      <td>RT @PeterTownsend7: The Real #WarOnWomen  #isi...</td>\n",
       "      <td>2891</td>\n",
       "      <td>1615</td>\n",
       "      <td>1</td>\n",
       "    </tr>\n",
       "  </tbody>\n",
       "</table>\n",
       "</div>"
      ],
      "text/plain": [
       "                                                  content  followers  \\\n",
       "204024  RT @businessinsider: OBAMA: The press doesn’t ...      14525   \n",
       "45854   Review: Generation Startup https://t.co/lej8O8...       3086   \n",
       "199686  RT @Kidrambler: @TomiLahren Vote for Gary John...       1117   \n",
       "115712  in interpersonal relations with pple who are m...        936   \n",
       "245728  RT @PeterTownsend7: The Real #WarOnWomen  #isi...       2891   \n",
       "\n",
       "        following  retweet  \n",
       "204024       3311        1  \n",
       "45854        2387        1  \n",
       "199686       3742        1  \n",
       "115712        582        1  \n",
       "245728       1615        1  "
      ]
     },
     "execution_count": 9,
     "metadata": {},
     "output_type": "execute_result"
    }
   ],
   "source": [
    "Xrand_train.head()"
   ]
  },
  {
   "cell_type": "code",
   "execution_count": 10,
   "metadata": {},
   "outputs": [
    {
     "data": {
      "text/plain": [
       "((266003, 4), (266003, 1))"
      ]
     },
     "execution_count": 10,
     "metadata": {},
     "output_type": "execute_result"
    }
   ],
   "source": [
    "Xrand_train.shape, yrand_train.shape"
   ]
  },
  {
   "cell_type": "markdown",
   "metadata": {},
   "source": [
    "### Tokenize content"
   ]
  },
  {
   "cell_type": "code",
   "execution_count": 11,
   "metadata": {},
   "outputs": [],
   "source": [
    "vocab_size=5000\n",
    "tokenizer=feature_extraction.text.CountVectorizer(stop_words='english', max_features=vocab_size)\n",
    "tokenizer=tokenizer.fit(df['content'])"
   ]
  },
  {
   "cell_type": "code",
   "execution_count": 12,
   "metadata": {},
   "outputs": [],
   "source": [
    "Xrand_train_tok=tokenizer.transform(Xrand_train['content'])\n",
    "Xrand_val_tok=tokenizer.transform(Xrand_val['content'])\n",
    "Xrand_test_tok=tokenizer.transform(Xrand_test['content'])\n",
    "\n",
    "Xtemp_train_tok=tokenizer.transform(Xtemp_train['content'])\n",
    "Xtemp_val_tok=tokenizer.transform(Xtemp_val['content'])\n",
    "Xtemp_test_tok=tokenizer.transform(Xtemp_test['content'])"
   ]
  },
  {
   "cell_type": "code",
   "execution_count": 13,
   "metadata": {},
   "outputs": [
    {
     "data": {
      "text/plain": [
       "(266003, 5000)"
      ]
     },
     "execution_count": 13,
     "metadata": {},
     "output_type": "execute_result"
    }
   ],
   "source": [
    "Xrand_train_tok.shape # token matrix dim = n x vocab_size"
   ]
  },
  {
   "cell_type": "markdown",
   "metadata": {},
   "source": [
    "### Standardize followers/following"
   ]
  },
  {
   "cell_type": "code",
   "execution_count": 14,
   "metadata": {},
   "outputs": [],
   "source": [
    "# one for each split\n",
    "rand_scaler = preprocessing.StandardScaler().fit(Xrand_train[['followers','following']])\n",
    "temp_scaler = preprocessing.StandardScaler().fit(Xtemp_train[['followers','following']])"
   ]
  },
  {
   "cell_type": "code",
   "execution_count": 15,
   "metadata": {},
   "outputs": [
    {
     "name": "stdout",
     "output_type": "stream",
     "text": [
      "rand means and scales: [8154.90645218 3016.03233422], [219679.05451009   7816.52064337]\n",
      "temp means and scales: [8757.68069533 3020.22409146], [219679.05451009   7816.52064337]\n"
     ]
    }
   ],
   "source": [
    "print('rand means and scales: {}, {}'.format(rand_scaler.mean_, rand_scaler.scale_))\n",
    "print('temp means and scales: {}, {}'.format(temp_scaler.mean_, rand_scaler.scale_))"
   ]
  },
  {
   "cell_type": "markdown",
   "metadata": {},
   "source": [
    "They are very close. Could probably just use a single one, but I will use both anyways, in case it makes a difference."
   ]
  },
  {
   "cell_type": "code",
   "execution_count": 16,
   "metadata": {},
   "outputs": [],
   "source": [
    "col_to_std = ['followers', 'following']\n",
    "Xrand_train[col_to_std]=rand_scaler.transform(Xrand_train[col_to_std])\n",
    "Xrand_val[col_to_std]=rand_scaler.transform(Xrand_val[col_to_std])\n",
    "Xrand_test[col_to_std]=rand_scaler.transform(Xrand_test[col_to_std])\n",
    "\n",
    "Xtemp_train[col_to_std]=temp_scaler.transform(Xtemp_train[col_to_std])\n",
    "Xtemp_val[col_to_std]=temp_scaler.transform(Xtemp_val[col_to_std])\n",
    "Xtemp_test[col_to_std]=temp_scaler.transform(Xtemp_test[col_to_std])"
   ]
  },
  {
   "cell_type": "code",
   "execution_count": 17,
   "metadata": {},
   "outputs": [
    {
     "data": {
      "text/html": [
       "<div>\n",
       "<style scoped>\n",
       "    .dataframe tbody tr th:only-of-type {\n",
       "        vertical-align: middle;\n",
       "    }\n",
       "\n",
       "    .dataframe tbody tr th {\n",
       "        vertical-align: top;\n",
       "    }\n",
       "\n",
       "    .dataframe thead th {\n",
       "        text-align: right;\n",
       "    }\n",
       "</style>\n",
       "<table border=\"1\" class=\"dataframe\">\n",
       "  <thead>\n",
       "    <tr style=\"text-align: right;\">\n",
       "      <th></th>\n",
       "      <th>followers</th>\n",
       "      <th>following</th>\n",
       "    </tr>\n",
       "  </thead>\n",
       "  <tbody>\n",
       "    <tr>\n",
       "      <th>204024</th>\n",
       "      <td>0.028997</td>\n",
       "      <td>0.037736</td>\n",
       "    </tr>\n",
       "    <tr>\n",
       "      <th>45854</th>\n",
       "      <td>-0.023074</td>\n",
       "      <td>-0.080475</td>\n",
       "    </tr>\n",
       "    <tr>\n",
       "      <th>199686</th>\n",
       "      <td>-0.032037</td>\n",
       "      <td>0.092876</td>\n",
       "    </tr>\n",
       "    <tr>\n",
       "      <th>115712</th>\n",
       "      <td>-0.032861</td>\n",
       "      <td>-0.311396</td>\n",
       "    </tr>\n",
       "    <tr>\n",
       "      <th>245728</th>\n",
       "      <td>-0.023962</td>\n",
       "      <td>-0.179240</td>\n",
       "    </tr>\n",
       "  </tbody>\n",
       "</table>\n",
       "</div>"
      ],
      "text/plain": [
       "        followers  following\n",
       "204024   0.028997   0.037736\n",
       "45854   -0.023074  -0.080475\n",
       "199686  -0.032037   0.092876\n",
       "115712  -0.032861  -0.311396\n",
       "245728  -0.023962  -0.179240"
      ]
     },
     "execution_count": 17,
     "metadata": {},
     "output_type": "execute_result"
    }
   ],
   "source": [
    "Xrand_train[col_to_std].head()"
   ]
  },
  {
   "cell_type": "markdown",
   "metadata": {},
   "source": [
    "### Binarize the boolean outcome"
   ]
  },
  {
   "cell_type": "code",
   "execution_count": 18,
   "metadata": {},
   "outputs": [
    {
     "data": {
      "text/html": [
       "<div>\n",
       "<style scoped>\n",
       "    .dataframe tbody tr th:only-of-type {\n",
       "        vertical-align: middle;\n",
       "    }\n",
       "\n",
       "    .dataframe tbody tr th {\n",
       "        vertical-align: top;\n",
       "    }\n",
       "\n",
       "    .dataframe thead th {\n",
       "        text-align: right;\n",
       "    }\n",
       "</style>\n",
       "<table border=\"1\" class=\"dataframe\">\n",
       "  <thead>\n",
       "    <tr style=\"text-align: right;\">\n",
       "      <th></th>\n",
       "      <th>troll</th>\n",
       "    </tr>\n",
       "  </thead>\n",
       "  <tbody>\n",
       "    <tr>\n",
       "      <th>204024</th>\n",
       "      <td>False</td>\n",
       "    </tr>\n",
       "    <tr>\n",
       "      <th>45854</th>\n",
       "      <td>True</td>\n",
       "    </tr>\n",
       "    <tr>\n",
       "      <th>199686</th>\n",
       "      <td>False</td>\n",
       "    </tr>\n",
       "    <tr>\n",
       "      <th>115712</th>\n",
       "      <td>True</td>\n",
       "    </tr>\n",
       "    <tr>\n",
       "      <th>245728</th>\n",
       "      <td>False</td>\n",
       "    </tr>\n",
       "  </tbody>\n",
       "</table>\n",
       "</div>"
      ],
      "text/plain": [
       "        troll\n",
       "204024  False\n",
       "45854    True\n",
       "199686  False\n",
       "115712   True\n",
       "245728  False"
      ]
     },
     "execution_count": 18,
     "metadata": {},
     "output_type": "execute_result"
    }
   ],
   "source": [
    "yrand_train.head()"
   ]
  },
  {
   "cell_type": "code",
   "execution_count": 19,
   "metadata": {},
   "outputs": [
    {
     "data": {
      "text/html": [
       "<div>\n",
       "<style scoped>\n",
       "    .dataframe tbody tr th:only-of-type {\n",
       "        vertical-align: middle;\n",
       "    }\n",
       "\n",
       "    .dataframe tbody tr th {\n",
       "        vertical-align: top;\n",
       "    }\n",
       "\n",
       "    .dataframe thead th {\n",
       "        text-align: right;\n",
       "    }\n",
       "</style>\n",
       "<table border=\"1\" class=\"dataframe\">\n",
       "  <thead>\n",
       "    <tr style=\"text-align: right;\">\n",
       "      <th></th>\n",
       "      <th>troll</th>\n",
       "    </tr>\n",
       "  </thead>\n",
       "  <tbody>\n",
       "    <tr>\n",
       "      <th>204024</th>\n",
       "      <td>0</td>\n",
       "    </tr>\n",
       "    <tr>\n",
       "      <th>45854</th>\n",
       "      <td>1</td>\n",
       "    </tr>\n",
       "    <tr>\n",
       "      <th>199686</th>\n",
       "      <td>0</td>\n",
       "    </tr>\n",
       "    <tr>\n",
       "      <th>115712</th>\n",
       "      <td>1</td>\n",
       "    </tr>\n",
       "    <tr>\n",
       "      <th>245728</th>\n",
       "      <td>0</td>\n",
       "    </tr>\n",
       "  </tbody>\n",
       "</table>\n",
       "</div>"
      ],
      "text/plain": [
       "        troll\n",
       "204024      0\n",
       "45854       1\n",
       "199686      0\n",
       "115712      1\n",
       "245728      0"
      ]
     },
     "execution_count": 19,
     "metadata": {},
     "output_type": "execute_result"
    }
   ],
   "source": [
    "bool_to_bin = lambda x: 1 if x else 0\n",
    "yrand_train['troll'] = yrand_train['troll'].apply(bool_to_bin)\n",
    "yrand_train.head()"
   ]
  },
  {
   "cell_type": "code",
   "execution_count": 20,
   "metadata": {},
   "outputs": [],
   "source": [
    "yrand_val['troll'] = yrand_val['troll'].apply(bool_to_bin)\n",
    "yrand_test['troll'] = yrand_test['troll'].apply(bool_to_bin)\n",
    "\n",
    "ytemp_train['troll'] = ytemp_train['troll'].apply(bool_to_bin)\n",
    "ytemp_val['troll'] = ytemp_val['troll'].apply(bool_to_bin)\n",
    "ytemp_test['troll'] = ytemp_test['troll'].apply(bool_to_bin)"
   ]
  },
  {
   "cell_type": "markdown",
   "metadata": {},
   "source": [
    "### Concatenate features"
   ]
  },
  {
   "cell_type": "code",
   "execution_count": 21,
   "metadata": {},
   "outputs": [],
   "source": [
    "def concatenate_features(tok_matrix, data_df):\n",
    "    \"\"\" concatenate the tokenized matrix (scipy.sparse) with other features \"\"\"\n",
    "    sparse_cols = sparse.csr_matrix(data_df[['followers', 'following', 'retweet']])\n",
    "    combined = sparse.hstack([tok_matrix, sparse_cols])\n",
    "    return combined"
   ]
  },
  {
   "cell_type": "code",
   "execution_count": 22,
   "metadata": {},
   "outputs": [],
   "source": [
    "Xrand_train_combined = concatenate_features(Xrand_train_tok, Xrand_train)\n",
    "Xrand_val_combined = concatenate_features(Xrand_val_tok, Xrand_val)\n",
    "Xrand_test_combined = concatenate_features(Xrand_test_tok, Xrand_test)\n",
    "\n",
    "Xtemp_train_combined = concatenate_features(Xtemp_train_tok, Xtemp_train)\n",
    "Xtemp_val_combined = concatenate_features(Xtemp_val_tok, Xtemp_val)\n",
    "Xtemp_test_combined = concatenate_features(Xtemp_test_tok, Xtemp_test)"
   ]
  },
  {
   "cell_type": "markdown",
   "metadata": {},
   "source": [
    "## Train the model(s)"
   ]
  },
  {
   "cell_type": "markdown",
   "metadata": {},
   "source": [
    "### Using only text"
   ]
  },
  {
   "cell_type": "code",
   "execution_count": 24,
   "metadata": {},
   "outputs": [],
   "source": [
    "# random split\n",
    "logit_rand = linear_model.LogisticRegression().fit(Xrand_train_tok, yrand_train['troll'])"
   ]
  },
  {
   "cell_type": "code",
   "execution_count": 25,
   "metadata": {},
   "outputs": [
    {
     "data": {
      "text/plain": [
       "0.9000601503759399"
      ]
     },
     "execution_count": 25,
     "metadata": {},
     "output_type": "execute_result"
    }
   ],
   "source": [
    "logit_rand.score(Xrand_val_tok, yrand_val['troll'])"
   ]
  },
  {
   "cell_type": "code",
   "execution_count": 26,
   "metadata": {},
   "outputs": [
    {
     "data": {
      "text/plain": [
       "0.9054464527382635"
      ]
     },
     "execution_count": 26,
     "metadata": {},
     "output_type": "execute_result"
    }
   ],
   "source": [
    "logit_rand.score(Xrand_test_tok, yrand_test['troll'])"
   ]
  },
  {
   "cell_type": "code",
   "execution_count": 28,
   "metadata": {},
   "outputs": [],
   "source": [
    "# temporal split\n",
    "logit_temp = linear_model.LogisticRegression().fit(Xtemp_train_tok, ytemp_train['troll'])"
   ]
  },
  {
   "cell_type": "code",
   "execution_count": 29,
   "metadata": {},
   "outputs": [
    {
     "data": {
      "text/plain": [
       "0.8973533834586466"
      ]
     },
     "execution_count": 29,
     "metadata": {},
     "output_type": "execute_result"
    }
   ],
   "source": [
    "logit_temp.score(Xtemp_val_tok, ytemp_val['troll'])"
   ]
  },
  {
   "cell_type": "code",
   "execution_count": 30,
   "metadata": {},
   "outputs": [
    {
     "data": {
      "text/plain": [
       "0.8965444648281254"
      ]
     },
     "execution_count": 30,
     "metadata": {},
     "output_type": "execute_result"
    }
   ],
   "source": [
    "logit_temp.score(Xtemp_test_tok, ytemp_test['troll'])"
   ]
  },
  {
   "cell_type": "markdown",
   "metadata": {},
   "source": [
    "### Using all features"
   ]
  },
  {
   "cell_type": "code",
   "execution_count": 32,
   "metadata": {},
   "outputs": [],
   "source": [
    "# random split\n",
    "logit_rand_all = linear_model.LogisticRegression().fit(Xrand_train_combined, yrand_train['troll'])"
   ]
  },
  {
   "cell_type": "code",
   "execution_count": 35,
   "metadata": {},
   "outputs": [
    {
     "data": {
      "text/plain": [
       "0.9673383458646616"
      ]
     },
     "execution_count": 35,
     "metadata": {},
     "output_type": "execute_result"
    }
   ],
   "source": [
    "logit_rand_all.score(Xrand_val_combined, yrand_val['troll'])"
   ]
  },
  {
   "cell_type": "code",
   "execution_count": 36,
   "metadata": {},
   "outputs": [
    {
     "data": {
      "text/plain": [
       "0.9657153168325765"
      ]
     },
     "execution_count": 36,
     "metadata": {},
     "output_type": "execute_result"
    }
   ],
   "source": [
    "logit_rand_all.score(Xrand_test_combined, yrand_test['troll'])"
   ]
  },
  {
   "cell_type": "code",
   "execution_count": 37,
   "metadata": {},
   "outputs": [],
   "source": [
    "# temporal split\n",
    "logit_temp_all = linear_model.LogisticRegression().fit(Xtemp_train_combined, ytemp_train['troll'])"
   ]
  },
  {
   "cell_type": "code",
   "execution_count": 38,
   "metadata": {},
   "outputs": [
    {
     "data": {
      "text/plain": [
       "0.953593984962406"
      ]
     },
     "execution_count": 38,
     "metadata": {},
     "output_type": "execute_result"
    }
   ],
   "source": [
    "logit_temp_all.score(Xtemp_val_combined, ytemp_val['troll'])"
   ]
  },
  {
   "cell_type": "code",
   "execution_count": 39,
   "metadata": {},
   "outputs": [
    {
     "data": {
      "text/plain": [
       "0.9577757059938047"
      ]
     },
     "execution_count": 39,
     "metadata": {},
     "output_type": "execute_result"
    }
   ],
   "source": [
    "logit_temp_all.score(Xtemp_test_combined, ytemp_test['troll'])"
   ]
  },
  {
   "cell_type": "markdown",
   "metadata": {},
   "source": [
    "## Summary of results\n"
   ]
  },
  {
   "cell_type": "markdown",
   "metadata": {},
   "source": [
    "- Using only the text features, logistic regression is amazingly able to classify trolls with ~90.5% accuracy on the random test set and ~89.6% accuracy on the temporal test set.\n",
    "\n",
    "- If we include followers/following/retweets, logistic regression is able to classify trolls with ~96.6% accuracy on the random test set and ~95.8% accuracy on the temporal test set.\n",
    "\n",
    "- Amazingly, logistic regression fits the data in about 5 seconds on a 6-core machine."
   ]
  }
 ],
 "metadata": {
  "kernelspec": {
   "display_name": "Python 3",
   "language": "python",
   "name": "python3"
  },
  "language_info": {
   "codemirror_mode": {
    "name": "ipython",
    "version": 3
   },
   "file_extension": ".py",
   "mimetype": "text/x-python",
   "name": "python",
   "nbconvert_exporter": "python",
   "pygments_lexer": "ipython3",
   "version": "3.6.5"
  }
 },
 "nbformat": 4,
 "nbformat_minor": 2
}
