{
 "cells": [
  {
   "cell_type": "code",
   "execution_count": 1,
   "metadata": {},
   "outputs": [],
   "source": [
    "import pandas as pd\n",
    "import numpy as np\n",
    "from sklearn import feature_extraction\n",
    "from sklearn import linear_model\n",
    "from sklearn import preprocessing\n",
    "from scipy import sparse"
   ]
  },
  {
   "cell_type": "markdown",
   "metadata": {},
   "source": [
    "## Load Data and Train/Test Split(s)"
   ]
  },
  {
   "cell_type": "code",
   "execution_count": 2,
   "metadata": {},
   "outputs": [],
   "source": [
    "df=pd.read_json(\"../data/merged_troll_data.json\")"
   ]
  },
  {
   "cell_type": "code",
   "execution_count": 3,
   "metadata": {},
   "outputs": [
    {
     "data": {
      "text/plain": [
       "(332504, 8)"
      ]
     },
     "execution_count": 3,
     "metadata": {},
     "output_type": "execute_result"
    }
   ],
   "source": [
    "df.shape"
   ]
  },
  {
   "cell_type": "code",
   "execution_count": 4,
   "metadata": {},
   "outputs": [
    {
     "data": {
      "text/html": [
       "<div>\n",
       "<style scoped>\n",
       "    .dataframe tbody tr th:only-of-type {\n",
       "        vertical-align: middle;\n",
       "    }\n",
       "\n",
       "    .dataframe tbody tr th {\n",
       "        vertical-align: top;\n",
       "    }\n",
       "\n",
       "    .dataframe thead th {\n",
       "        text-align: right;\n",
       "    }\n",
       "</style>\n",
       "<table border=\"1\" class=\"dataframe\">\n",
       "  <thead>\n",
       "    <tr style=\"text-align: right;\">\n",
       "      <th></th>\n",
       "      <th>content</th>\n",
       "      <th>followers</th>\n",
       "      <th>following</th>\n",
       "      <th>retweet</th>\n",
       "      <th>account_category</th>\n",
       "      <th>created_at</th>\n",
       "      <th>troll</th>\n",
       "      <th>orig_index</th>\n",
       "    </tr>\n",
       "  </thead>\n",
       "  <tbody>\n",
       "    <tr>\n",
       "      <th>294412</th>\n",
       "      <td>We NEED a Special Prosecutor...NOW!! https://t...</td>\n",
       "      <td>57</td>\n",
       "      <td>66</td>\n",
       "      <td>0</td>\n",
       "      <td>NonTroll</td>\n",
       "      <td>2016-10-25 04:26:51</td>\n",
       "      <td>False</td>\n",
       "      <td>2801</td>\n",
       "    </tr>\n",
       "    <tr>\n",
       "      <th>330038</th>\n",
       "      <td>RT @tmckernan: From #KenBone: I went into the ...</td>\n",
       "      <td>373</td>\n",
       "      <td>143</td>\n",
       "      <td>1</td>\n",
       "      <td>NonTroll</td>\n",
       "      <td>2016-10-10 13:20:32</td>\n",
       "      <td>False</td>\n",
       "      <td>400554</td>\n",
       "    </tr>\n",
       "    <tr>\n",
       "      <th>283123</th>\n",
       "      <td>@realDonaldTrump you are wrong Donald, it was ...</td>\n",
       "      <td>111</td>\n",
       "      <td>141</td>\n",
       "      <td>0</td>\n",
       "      <td>NonTroll</td>\n",
       "      <td>2016-10-20 02:23:20</td>\n",
       "      <td>False</td>\n",
       "      <td>16201</td>\n",
       "    </tr>\n",
       "    <tr>\n",
       "      <th>330288</th>\n",
       "      <td>RT @atensnut: Hillary calls Trump's remarks \"h...</td>\n",
       "      <td>534</td>\n",
       "      <td>445</td>\n",
       "      <td>1</td>\n",
       "      <td>NonTroll</td>\n",
       "      <td>2016-10-09 03:59:14</td>\n",
       "      <td>False</td>\n",
       "      <td>29403</td>\n",
       "    </tr>\n",
       "    <tr>\n",
       "      <th>272847</th>\n",
       "      <td>@realDonaldTrump @TeamTrump @MELANIATRUMP @Iva...</td>\n",
       "      <td>14045</td>\n",
       "      <td>12881</td>\n",
       "      <td>0</td>\n",
       "      <td>NonTroll</td>\n",
       "      <td>2016-10-10 08:42:21</td>\n",
       "      <td>False</td>\n",
       "      <td>65000</td>\n",
       "    </tr>\n",
       "  </tbody>\n",
       "</table>\n",
       "</div>"
      ],
      "text/plain": [
       "                                                  content  followers  \\\n",
       "294412  We NEED a Special Prosecutor...NOW!! https://t...         57   \n",
       "330038  RT @tmckernan: From #KenBone: I went into the ...        373   \n",
       "283123  @realDonaldTrump you are wrong Donald, it was ...        111   \n",
       "330288  RT @atensnut: Hillary calls Trump's remarks \"h...        534   \n",
       "272847  @realDonaldTrump @TeamTrump @MELANIATRUMP @Iva...      14045   \n",
       "\n",
       "        following  retweet account_category          created_at  troll  \\\n",
       "294412         66        0         NonTroll 2016-10-25 04:26:51  False   \n",
       "330038        143        1         NonTroll 2016-10-10 13:20:32  False   \n",
       "283123        141        0         NonTroll 2016-10-20 02:23:20  False   \n",
       "330288        445        1         NonTroll 2016-10-09 03:59:14  False   \n",
       "272847      12881        0         NonTroll 2016-10-10 08:42:21  False   \n",
       "\n",
       "        orig_index  \n",
       "294412        2801  \n",
       "330038      400554  \n",
       "283123       16201  \n",
       "330288       29403  \n",
       "272847       65000  "
      ]
     },
     "execution_count": 4,
     "metadata": {},
     "output_type": "execute_result"
    }
   ],
   "source": [
    "df.sample(5).head()"
   ]
  },
  {
   "cell_type": "code",
   "execution_count": 5,
   "metadata": {},
   "outputs": [],
   "source": [
    "ids=pd.read_json(\"../data/train_test_inds.json\")"
   ]
  },
  {
   "cell_type": "code",
   "execution_count": 6,
   "metadata": {},
   "outputs": [
    {
     "data": {
      "text/plain": [
       "266003"
      ]
     },
     "execution_count": 6,
     "metadata": {},
     "output_type": "execute_result"
    }
   ],
   "source": [
    "len(ids.random.train)"
   ]
  },
  {
   "cell_type": "markdown",
   "metadata": {},
   "source": [
    "## Prepare feature matrix"
   ]
  },
  {
   "cell_type": "markdown",
   "metadata": {},
   "source": [
    "### Isolate matrices"
   ]
  },
  {
   "cell_type": "code",
   "execution_count": 7,
   "metadata": {},
   "outputs": [],
   "source": [
    "def getxy(ids, feature_cols=['content', 'followers', 'following', 'retweet'], label_col=['troll']):\n",
    "    return df[feature_cols].iloc[ids], df[label_col].iloc[ids]"
   ]
  },
  {
   "cell_type": "code",
   "execution_count": 8,
   "metadata": {},
   "outputs": [],
   "source": [
    "# random\n",
    "Xrand_train, yrand_train = getxy(ids.random.train)\n",
    "Xrand_val, yrand_val = getxy(ids.random.val)\n",
    "Xrand_test, yrand_test = getxy(ids.random.test)\n",
    "\n",
    "# temporal\n",
    "Xtemp_train, ytemp_train = getxy(ids.temporal.train)\n",
    "Xtemp_val, ytemp_val = getxy(ids.temporal.val)\n",
    "Xtemp_test, ytemp_test = getxy(ids.temporal.test)"
   ]
  },
  {
   "cell_type": "code",
   "execution_count": 9,
   "metadata": {},
   "outputs": [
    {
     "data": {
      "text/html": [
       "<div>\n",
       "<style scoped>\n",
       "    .dataframe tbody tr th:only-of-type {\n",
       "        vertical-align: middle;\n",
       "    }\n",
       "\n",
       "    .dataframe tbody tr th {\n",
       "        vertical-align: top;\n",
       "    }\n",
       "\n",
       "    .dataframe thead th {\n",
       "        text-align: right;\n",
       "    }\n",
       "</style>\n",
       "<table border=\"1\" class=\"dataframe\">\n",
       "  <thead>\n",
       "    <tr style=\"text-align: right;\">\n",
       "      <th></th>\n",
       "      <th>content</th>\n",
       "      <th>followers</th>\n",
       "      <th>following</th>\n",
       "      <th>retweet</th>\n",
       "    </tr>\n",
       "  </thead>\n",
       "  <tbody>\n",
       "    <tr>\n",
       "      <th>204024</th>\n",
       "      <td>RT @businessinsider: OBAMA: The press doesn’t ...</td>\n",
       "      <td>14525</td>\n",
       "      <td>3311</td>\n",
       "      <td>1</td>\n",
       "    </tr>\n",
       "    <tr>\n",
       "      <th>45854</th>\n",
       "      <td>Review: Generation Startup https://t.co/lej8O8...</td>\n",
       "      <td>3086</td>\n",
       "      <td>2387</td>\n",
       "      <td>1</td>\n",
       "    </tr>\n",
       "    <tr>\n",
       "      <th>199686</th>\n",
       "      <td>RT @Kidrambler: @TomiLahren Vote for Gary John...</td>\n",
       "      <td>1117</td>\n",
       "      <td>3742</td>\n",
       "      <td>1</td>\n",
       "    </tr>\n",
       "    <tr>\n",
       "      <th>115712</th>\n",
       "      <td>in interpersonal relations with pple who are m...</td>\n",
       "      <td>936</td>\n",
       "      <td>582</td>\n",
       "      <td>1</td>\n",
       "    </tr>\n",
       "    <tr>\n",
       "      <th>245728</th>\n",
       "      <td>RT @PeterTownsend7: The Real #WarOnWomen  #isi...</td>\n",
       "      <td>2891</td>\n",
       "      <td>1615</td>\n",
       "      <td>1</td>\n",
       "    </tr>\n",
       "  </tbody>\n",
       "</table>\n",
       "</div>"
      ],
      "text/plain": [
       "                                                  content  followers  \\\n",
       "204024  RT @businessinsider: OBAMA: The press doesn’t ...      14525   \n",
       "45854   Review: Generation Startup https://t.co/lej8O8...       3086   \n",
       "199686  RT @Kidrambler: @TomiLahren Vote for Gary John...       1117   \n",
       "115712  in interpersonal relations with pple who are m...        936   \n",
       "245728  RT @PeterTownsend7: The Real #WarOnWomen  #isi...       2891   \n",
       "\n",
       "        following  retweet  \n",
       "204024       3311        1  \n",
       "45854        2387        1  \n",
       "199686       3742        1  \n",
       "115712        582        1  \n",
       "245728       1615        1  "
      ]
     },
     "execution_count": 9,
     "metadata": {},
     "output_type": "execute_result"
    }
   ],
   "source": [
    "Xrand_train.head()"
   ]
  },
  {
   "cell_type": "code",
   "execution_count": 10,
   "metadata": {},
   "outputs": [
    {
     "data": {
      "text/plain": [
       "((266003, 4), (266003, 1))"
      ]
     },
     "execution_count": 10,
     "metadata": {},
     "output_type": "execute_result"
    }
   ],
   "source": [
    "Xrand_train.shape, yrand_train.shape"
   ]
  },
  {
   "cell_type": "markdown",
   "metadata": {},
   "source": [
    "### Tokenize content"
   ]
  },
  {
   "cell_type": "code",
   "execution_count": 11,
   "metadata": {},
   "outputs": [],
   "source": [
    "vocab_size=5000\n",
    "tokenizer=feature_extraction.text.CountVectorizer(stop_words='english', max_features=vocab_size)\n",
    "tokenizer=tokenizer.fit(df['content'])"
   ]
  },
  {
   "cell_type": "code",
   "execution_count": 12,
   "metadata": {},
   "outputs": [],
   "source": [
    "Xrand_train_tok=tokenizer.transform(Xrand_train['content'])\n",
    "Xrand_val_tok=tokenizer.transform(Xrand_val['content'])\n",
    "Xrand_test_tok=tokenizer.transform(Xrand_test['content'])\n",
    "\n",
    "Xtemp_train_tok=tokenizer.transform(Xtemp_train['content'])\n",
    "Xtemp_val_tok=tokenizer.transform(Xtemp_val['content'])\n",
    "Xtemp_test_tok=tokenizer.transform(Xtemp_test['content'])"
   ]
  },
  {
   "cell_type": "code",
   "execution_count": 13,
   "metadata": {},
   "outputs": [
    {
     "data": {
      "text/plain": [
       "(266003, 5000)"
      ]
     },
     "execution_count": 13,
     "metadata": {},
     "output_type": "execute_result"
    }
   ],
   "source": [
    "Xrand_train_tok.shape # token matrix dim = n x vocab_size"
   ]
  },
  {
   "cell_type": "markdown",
   "metadata": {},
   "source": [
    "### Standardize followers/following"
   ]
  },
  {
   "cell_type": "code",
   "execution_count": 14,
   "metadata": {},
   "outputs": [],
   "source": [
    "# one for each split\n",
    "rand_scaler = preprocessing.StandardScaler().fit(Xrand_train[['followers','following']])\n",
    "temp_scaler = preprocessing.StandardScaler().fit(Xtemp_train[['followers','following']])"
   ]
  },
  {
   "cell_type": "code",
   "execution_count": 15,
   "metadata": {},
   "outputs": [
    {
     "name": "stdout",
     "output_type": "stream",
     "text": [
      "rand means and scales: [8154.90645218 3016.03233422], [219679.05451009   7816.52064337]\n",
      "temp means and scales: [8757.68069533 3020.22409146], [219679.05451009   7816.52064337]\n"
     ]
    }
   ],
   "source": [
    "print('rand means and scales: {}, {}'.format(rand_scaler.mean_, rand_scaler.scale_))\n",
    "print('temp means and scales: {}, {}'.format(temp_scaler.mean_, rand_scaler.scale_))"
   ]
  },
  {
   "cell_type": "markdown",
   "metadata": {},
   "source": [
    "They are very close. Could probably just use a single one, but I will use both anyways, in case it makes a difference."
   ]
  },
  {
   "cell_type": "code",
   "execution_count": 16,
   "metadata": {},
   "outputs": [],
   "source": [
    "col_to_std = ['followers', 'following']\n",
    "Xrand_train[col_to_std]=rand_scaler.transform(Xrand_train[col_to_std])\n",
    "Xrand_val[col_to_std]=rand_scaler.transform(Xrand_val[col_to_std])\n",
    "Xrand_test[col_to_std]=rand_scaler.transform(Xrand_test[col_to_std])\n",
    "\n",
    "Xtemp_train[col_to_std]=temp_scaler.transform(Xtemp_train[col_to_std])\n",
    "Xtemp_val[col_to_std]=temp_scaler.transform(Xtemp_val[col_to_std])\n",
    "Xtemp_test[col_to_std]=temp_scaler.transform(Xtemp_test[col_to_std])"
   ]
  },
  {
   "cell_type": "code",
   "execution_count": 17,
   "metadata": {},
   "outputs": [
    {
     "data": {
      "text/html": [
       "<div>\n",
       "<style scoped>\n",
       "    .dataframe tbody tr th:only-of-type {\n",
       "        vertical-align: middle;\n",
       "    }\n",
       "\n",
       "    .dataframe tbody tr th {\n",
       "        vertical-align: top;\n",
       "    }\n",
       "\n",
       "    .dataframe thead th {\n",
       "        text-align: right;\n",
       "    }\n",
       "</style>\n",
       "<table border=\"1\" class=\"dataframe\">\n",
       "  <thead>\n",
       "    <tr style=\"text-align: right;\">\n",
       "      <th></th>\n",
       "      <th>followers</th>\n",
       "      <th>following</th>\n",
       "    </tr>\n",
       "  </thead>\n",
       "  <tbody>\n",
       "    <tr>\n",
       "      <th>204024</th>\n",
       "      <td>0.028997</td>\n",
       "      <td>0.037736</td>\n",
       "    </tr>\n",
       "    <tr>\n",
       "      <th>45854</th>\n",
       "      <td>-0.023074</td>\n",
       "      <td>-0.080475</td>\n",
       "    </tr>\n",
       "    <tr>\n",
       "      <th>199686</th>\n",
       "      <td>-0.032037</td>\n",
       "      <td>0.092876</td>\n",
       "    </tr>\n",
       "    <tr>\n",
       "      <th>115712</th>\n",
       "      <td>-0.032861</td>\n",
       "      <td>-0.311396</td>\n",
       "    </tr>\n",
       "    <tr>\n",
       "      <th>245728</th>\n",
       "      <td>-0.023962</td>\n",
       "      <td>-0.179240</td>\n",
       "    </tr>\n",
       "  </tbody>\n",
       "</table>\n",
       "</div>"
      ],
      "text/plain": [
       "        followers  following\n",
       "204024   0.028997   0.037736\n",
       "45854   -0.023074  -0.080475\n",
       "199686  -0.032037   0.092876\n",
       "115712  -0.032861  -0.311396\n",
       "245728  -0.023962  -0.179240"
      ]
     },
     "execution_count": 17,
     "metadata": {},
     "output_type": "execute_result"
    }
   ],
   "source": [
    "Xrand_train[col_to_std].head()"
   ]
  },
  {
   "cell_type": "markdown",
   "metadata": {},
   "source": [
    "### Binarize the boolean outcome"
   ]
  },
  {
   "cell_type": "code",
   "execution_count": 18,
   "metadata": {},
   "outputs": [
    {
     "data": {
      "text/html": [
       "<div>\n",
       "<style scoped>\n",
       "    .dataframe tbody tr th:only-of-type {\n",
       "        vertical-align: middle;\n",
       "    }\n",
       "\n",
       "    .dataframe tbody tr th {\n",
       "        vertical-align: top;\n",
       "    }\n",
       "\n",
       "    .dataframe thead th {\n",
       "        text-align: right;\n",
       "    }\n",
       "</style>\n",
       "<table border=\"1\" class=\"dataframe\">\n",
       "  <thead>\n",
       "    <tr style=\"text-align: right;\">\n",
       "      <th></th>\n",
       "      <th>troll</th>\n",
       "    </tr>\n",
       "  </thead>\n",
       "  <tbody>\n",
       "    <tr>\n",
       "      <th>204024</th>\n",
       "      <td>False</td>\n",
       "    </tr>\n",
       "    <tr>\n",
       "      <th>45854</th>\n",
       "      <td>True</td>\n",
       "    </tr>\n",
       "    <tr>\n",
       "      <th>199686</th>\n",
       "      <td>False</td>\n",
       "    </tr>\n",
       "    <tr>\n",
       "      <th>115712</th>\n",
       "      <td>True</td>\n",
       "    </tr>\n",
       "    <tr>\n",
       "      <th>245728</th>\n",
       "      <td>False</td>\n",
       "    </tr>\n",
       "  </tbody>\n",
       "</table>\n",
       "</div>"
      ],
      "text/plain": [
       "        troll\n",
       "204024  False\n",
       "45854    True\n",
       "199686  False\n",
       "115712   True\n",
       "245728  False"
      ]
     },
     "execution_count": 18,
     "metadata": {},
     "output_type": "execute_result"
    }
   ],
   "source": [
    "yrand_train.head()"
   ]
  },
  {
   "cell_type": "code",
   "execution_count": 19,
   "metadata": {},
   "outputs": [
    {
     "data": {
      "text/html": [
       "<div>\n",
       "<style scoped>\n",
       "    .dataframe tbody tr th:only-of-type {\n",
       "        vertical-align: middle;\n",
       "    }\n",
       "\n",
       "    .dataframe tbody tr th {\n",
       "        vertical-align: top;\n",
       "    }\n",
       "\n",
       "    .dataframe thead th {\n",
       "        text-align: right;\n",
       "    }\n",
       "</style>\n",
       "<table border=\"1\" class=\"dataframe\">\n",
       "  <thead>\n",
       "    <tr style=\"text-align: right;\">\n",
       "      <th></th>\n",
       "      <th>troll</th>\n",
       "    </tr>\n",
       "  </thead>\n",
       "  <tbody>\n",
       "    <tr>\n",
       "      <th>204024</th>\n",
       "      <td>0</td>\n",
       "    </tr>\n",
       "    <tr>\n",
       "      <th>45854</th>\n",
       "      <td>1</td>\n",
       "    </tr>\n",
       "    <tr>\n",
       "      <th>199686</th>\n",
       "      <td>0</td>\n",
       "    </tr>\n",
       "    <tr>\n",
       "      <th>115712</th>\n",
       "      <td>1</td>\n",
       "    </tr>\n",
       "    <tr>\n",
       "      <th>245728</th>\n",
       "      <td>0</td>\n",
       "    </tr>\n",
       "  </tbody>\n",
       "</table>\n",
       "</div>"
      ],
      "text/plain": [
       "        troll\n",
       "204024      0\n",
       "45854       1\n",
       "199686      0\n",
       "115712      1\n",
       "245728      0"
      ]
     },
     "execution_count": 19,
     "metadata": {},
     "output_type": "execute_result"
    }
   ],
   "source": [
    "bool_to_bin = lambda x: 1 if x else 0\n",
    "yrand_train['troll'] = yrand_train['troll'].apply(bool_to_bin)\n",
    "yrand_train.head()"
   ]
  },
  {
   "cell_type": "code",
   "execution_count": 20,
   "metadata": {},
   "outputs": [],
   "source": [
    "yrand_val['troll'] = yrand_val['troll'].apply(bool_to_bin)\n",
    "yrand_test['troll'] = yrand_test['troll'].apply(bool_to_bin)\n",
    "\n",
    "ytemp_train['troll'] = ytemp_train['troll'].apply(bool_to_bin)\n",
    "ytemp_val['troll'] = ytemp_val['troll'].apply(bool_to_bin)\n",
    "ytemp_test['troll'] = ytemp_test['troll'].apply(bool_to_bin)"
   ]
  },
  {
   "cell_type": "markdown",
   "metadata": {},
   "source": [
    "### Concatenate features"
   ]
  },
  {
   "cell_type": "code",
   "execution_count": 21,
   "metadata": {},
   "outputs": [],
   "source": [
    "def concatenate_features(tok_matrix, data_df):\n",
    "    \"\"\" concatenate the tokenized matrix (scipy.sparse) with other features \"\"\"\n",
    "    sparse_cols = sparse.csr_matrix(data_df[['followers', 'following', 'retweet']])\n",
    "    combined = sparse.hstack([tok_matrix, sparse_cols])\n",
    "    return combined"
   ]
  },
  {
   "cell_type": "code",
   "execution_count": 22,
   "metadata": {},
   "outputs": [],
   "source": [
    "Xrand_train_combined = concatenate_features(Xrand_train_tok, Xrand_train)\n",
    "Xrand_val_combined = concatenate_features(Xrand_val_tok, Xrand_val)\n",
    "Xrand_test_combined = concatenate_features(Xrand_test_tok, Xrand_test)\n",
    "\n",
    "Xtemp_train_combined = concatenate_features(Xtemp_train_tok, Xtemp_train)\n",
    "Xtemp_val_combined = concatenate_features(Xtemp_val_tok, Xtemp_val)\n",
    "Xtemp_test_combined = concatenate_features(Xtemp_test_tok, Xtemp_test)"
   ]
  },
  {
   "cell_type": "code",
   "execution_count": 23,
   "metadata": {},
   "outputs": [
    {
     "data": {
      "text/plain": [
       "(266003, 5003)"
      ]
     },
     "execution_count": 23,
     "metadata": {},
     "output_type": "execute_result"
    }
   ],
   "source": [
    "Xrand_train_combined.shape # combined is n * tok_dim + 3 features"
   ]
  },
  {
   "cell_type": "markdown",
   "metadata": {},
   "source": [
    "## Train the model(s)"
   ]
  },
  {
   "cell_type": "markdown",
   "metadata": {},
   "source": [
    "### Using only text"
   ]
  },
  {
   "cell_type": "code",
   "execution_count": 24,
   "metadata": {},
   "outputs": [],
   "source": [
    "# random split\n",
    "logit_rand = linear_model.LogisticRegression().fit(Xrand_train_tok, yrand_train['troll'])"
   ]
  },
  {
   "cell_type": "code",
   "execution_count": 25,
   "metadata": {},
   "outputs": [
    {
     "data": {
      "text/plain": [
       "0.9000601503759399"
      ]
     },
     "execution_count": 25,
     "metadata": {},
     "output_type": "execute_result"
    }
   ],
   "source": [
    "logit_rand.score(Xrand_val_tok, yrand_val['troll'])"
   ]
  },
  {
   "cell_type": "code",
   "execution_count": 26,
   "metadata": {},
   "outputs": [
    {
     "data": {
      "text/plain": [
       "0.9054464527382635"
      ]
     },
     "execution_count": 26,
     "metadata": {},
     "output_type": "execute_result"
    }
   ],
   "source": [
    "logit_rand.score(Xrand_test_tok, yrand_test['troll'])"
   ]
  },
  {
   "cell_type": "code",
   "execution_count": 27,
   "metadata": {},
   "outputs": [],
   "source": [
    "# temporal split\n",
    "logit_temp = linear_model.LogisticRegression().fit(Xtemp_train_tok, ytemp_train['troll'])"
   ]
  },
  {
   "cell_type": "code",
   "execution_count": 28,
   "metadata": {},
   "outputs": [
    {
     "data": {
      "text/plain": [
       "0.8973533834586466"
      ]
     },
     "execution_count": 28,
     "metadata": {},
     "output_type": "execute_result"
    }
   ],
   "source": [
    "logit_temp.score(Xtemp_val_tok, ytemp_val['troll'])"
   ]
  },
  {
   "cell_type": "code",
   "execution_count": 29,
   "metadata": {},
   "outputs": [
    {
     "data": {
      "text/plain": [
       "0.8965444648281254"
      ]
     },
     "execution_count": 29,
     "metadata": {},
     "output_type": "execute_result"
    }
   ],
   "source": [
    "logit_temp.score(Xtemp_test_tok, ytemp_test['troll'])"
   ]
  },
  {
   "cell_type": "markdown",
   "metadata": {},
   "source": [
    "### Using all features"
   ]
  },
  {
   "cell_type": "code",
   "execution_count": 30,
   "metadata": {},
   "outputs": [],
   "source": [
    "# random split\n",
    "logit_rand_all = linear_model.LogisticRegression().fit(Xrand_train_combined, yrand_train['troll'])"
   ]
  },
  {
   "cell_type": "code",
   "execution_count": 31,
   "metadata": {},
   "outputs": [
    {
     "data": {
      "text/plain": [
       "0.9733612026932027"
      ]
     },
     "execution_count": 31,
     "metadata": {},
     "output_type": "execute_result"
    }
   ],
   "source": [
    "logit_rand_all.score(Xrand_train_combined, yrand_train['troll'])"
   ]
  },
  {
   "cell_type": "code",
   "execution_count": 32,
   "metadata": {},
   "outputs": [
    {
     "data": {
      "text/plain": [
       "0.9673383458646616"
      ]
     },
     "execution_count": 32,
     "metadata": {},
     "output_type": "execute_result"
    }
   ],
   "source": [
    "logit_rand_all.score(Xrand_val_combined, yrand_val['troll'])"
   ]
  },
  {
   "cell_type": "code",
   "execution_count": 33,
   "metadata": {},
   "outputs": [
    {
     "data": {
      "text/plain": [
       "0.9657153168325765"
      ]
     },
     "execution_count": 33,
     "metadata": {},
     "output_type": "execute_result"
    }
   ],
   "source": [
    "logit_rand_all.score(Xrand_test_combined, yrand_test['troll'])"
   ]
  },
  {
   "cell_type": "code",
   "execution_count": 34,
   "metadata": {},
   "outputs": [],
   "source": [
    "# temporal split\n",
    "logit_temp_all = linear_model.LogisticRegression().fit(Xtemp_train_combined, ytemp_train['troll'])"
   ]
  },
  {
   "cell_type": "code",
   "execution_count": 35,
   "metadata": {},
   "outputs": [
    {
     "data": {
      "text/plain": [
       "0.9747784799419555"
      ]
     },
     "execution_count": 35,
     "metadata": {},
     "output_type": "execute_result"
    }
   ],
   "source": [
    "logit_temp_all.score(Xtemp_train_combined, ytemp_train['troll'])"
   ]
  },
  {
   "cell_type": "code",
   "execution_count": 36,
   "metadata": {},
   "outputs": [
    {
     "data": {
      "text/plain": [
       "0.953593984962406"
      ]
     },
     "execution_count": 36,
     "metadata": {},
     "output_type": "execute_result"
    }
   ],
   "source": [
    "logit_temp_all.score(Xtemp_val_combined, ytemp_val['troll'])"
   ]
  },
  {
   "cell_type": "code",
   "execution_count": 37,
   "metadata": {},
   "outputs": [
    {
     "data": {
      "text/plain": [
       "0.9577757059938047"
      ]
     },
     "execution_count": 37,
     "metadata": {},
     "output_type": "execute_result"
    }
   ],
   "source": [
    "logit_temp_all.score(Xtemp_test_combined, ytemp_test['troll'])"
   ]
  },
  {
   "cell_type": "markdown",
   "metadata": {},
   "source": [
    "## Summary of results\n"
   ]
  },
  {
   "cell_type": "markdown",
   "metadata": {},
   "source": [
    "- Using only the text features, logistic regression is amazingly able to classify trolls with ~90.5% accuracy on the random test set and ~89.6% accuracy on the temporal test set.\n",
    "\n",
    "- If we include followers/following/retweets, logistic regression is able to classify trolls with ~96.6% accuracy on the random test set and ~95.8% accuracy on the temporal test set.\n",
    "\n",
    "- Amazingly, logistic regression fits the data in about 5 seconds on a 6-core machine."
   ]
  },
  {
   "cell_type": "markdown",
   "metadata": {},
   "source": [
    "## Analysis of Coefficients"
   ]
  },
  {
   "cell_type": "code",
   "execution_count": 38,
   "metadata": {},
   "outputs": [],
   "source": [
    "import matplotlib.pyplot as plt"
   ]
  },
  {
   "cell_type": "code",
   "execution_count": 39,
   "metadata": {},
   "outputs": [
    {
     "data": {
      "image/png": "[encoded data removed]",
      "text/plain": [
       "<Figure size 720x504 with 1 Axes>"
      ]
     },
     "metadata": {},
     "output_type": "display_data"
    }
   ],
   "source": [
    "logit_coefs=logit_temp_all.coef_[0]\n",
    "x_vals=np.arange(len(logit_coefs))\n",
    "plt.figure(figsize=(10,7))\n",
    "plt.scatter(x_vals, logit_coefs, alpha=0.2)\n",
    "plt.xlabel('feature number')\n",
    "plt.ylabel('coefficient value')\n",
    "plt.title('Scatterplot of Logistic Regression Coefficients')\n",
    "plt.show()"
   ]
  },
  {
   "cell_type": "code",
   "execution_count": 40,
   "metadata": {},
   "outputs": [],
   "source": [
    "coeff_rankings=list(zip(x_vals, logit_coefs))"
   ]
  },
  {
   "cell_type": "markdown",
   "metadata": {},
   "source": [
    "We can try pulling out the words / features which are most useful for the model. These are the coefficients far from 0."
   ]
  },
  {
   "cell_type": "code",
   "execution_count": 41,
   "metadata": {},
   "outputs": [
    {
     "data": {
      "text/plain": [
       "[(4617, 8.838763836634316),\n",
       " (5002, 8.039423039887515),\n",
       " (4378, 6.5843513614661795),\n",
       " (4998, 5.515205594483098),\n",
       " (2463, 4.713816938695965),\n",
       " (4664, 4.697230741066687),\n",
       " (2262, 4.574340386508764),\n",
       " (4987, 4.201012425170983),\n",
       " (4482, 4.062565213624058),\n",
       " (568, 4.033387244842914)]"
      ]
     },
     "execution_count": 41,
     "metadata": {},
     "output_type": "execute_result"
    }
   ],
   "source": [
    "pos_important = sorted(coeff_rankings, key=lambda x: x[1], reverse=True)[:10]\n",
    "pos_important"
   ]
  },
  {
   "cell_type": "code",
   "execution_count": 42,
   "metadata": {},
   "outputs": [
    {
     "data": {
      "text/plain": [
       "[(3868, -10.51575648211737),\n",
       " (284, -6.068239527626553),\n",
       " (2442, -4.1449520207607184),\n",
       " (3601, -3.4991128677483365),\n",
       " (1521, -3.208875507439863),\n",
       " (3251, -3.0724362016697913),\n",
       " (2195, -3.0477830181996866),\n",
       " (2000, -2.922491049274889),\n",
       " (1547, -2.824736998203203),\n",
       " (1510, -2.7610561488103897)]"
      ]
     },
     "execution_count": 42,
     "metadata": {},
     "output_type": "execute_result"
    }
   ],
   "source": [
    "neg_important = sorted(coeff_rankings, key=lambda x: x[1], reverse=False)[:10]\n",
    "neg_important"
   ]
  },
  {
   "cell_type": "markdown",
   "metadata": {},
   "source": [
    "We see that feature `5002` was very important, which was the retweet binary variable. Everything else seems to be a token from our vocabulary! Let's investigate these."
   ]
  },
  {
   "cell_type": "code",
   "execution_count": 43,
   "metadata": {},
   "outputs": [],
   "source": [
    "pos_words = [word for word, val in tokenizer.vocabulary_.items() if (val == pos_important).any()]"
   ]
  },
  {
   "cell_type": "code",
   "execution_count": 44,
   "metadata": {},
   "outputs": [
    {
     "data": {
      "text/plain": [
       "['½ï',\n",
       " 'tâ',\n",
       " 'imnotwithher',\n",
       " 'blackskinisnotacrime',\n",
       " 'talibkweli',\n",
       " 'youâ',\n",
       " 'trumpforpresident',\n",
       " 'thingsmoretrustedthanhillary',\n",
       " 'jstines3']"
      ]
     },
     "execution_count": 44,
     "metadata": {},
     "output_type": "execute_result"
    }
   ],
   "source": [
    "pos_words"
   ]
  },
  {
   "cell_type": "code",
   "execution_count": 45,
   "metadata": {},
   "outputs": [],
   "source": [
    "neg_words = [word for word, val in tokenizer.vocabulary_.items() if (val == neg_important).any()]"
   ]
  },
  {
   "cell_type": "code",
   "execution_count": 46,
   "metadata": {},
   "outputs": [
    {
     "data": {
      "text/plain": [
       "['rt',\n",
       " 'electionday',\n",
       " 'en',\n",
       " 'que',\n",
       " 'amp',\n",
       " 'el',\n",
       " 'johnkstahlusa',\n",
       " 'gt',\n",
       " 'htt',\n",
       " 'para']"
      ]
     },
     "execution_count": 46,
     "metadata": {},
     "output_type": "execute_result"
    }
   ],
   "source": [
    "neg_words"
   ]
  },
  {
   "cell_type": "markdown",
   "metadata": {},
   "source": [
    "## Cross-validate for Hyperparameters"
   ]
  },
  {
   "cell_type": "code",
   "execution_count": 51,
   "metadata": {},
   "outputs": [],
   "source": [
    "# combine train/val\n",
    "Xrand_train_cv = sparse.vstack([Xrand_train_combined, Xrand_val_combined])\n",
    "yrand_train_cv = np.concatenate([yrand_train['troll'], yrand_val['troll']], axis=0)\n",
    "Xtemp_train_cv = sparse.vstack([Xtemp_train_combined, Xtemp_val_combined])\n",
    "ytemp_train_cv = np.concatenate([ytemp_train['troll'], ytemp_val['troll']], axis=0)"
   ]
  },
  {
   "cell_type": "code",
   "execution_count": 52,
   "metadata": {},
   "outputs": [
    {
     "data": {
      "text/plain": [
       "((299253, 5003), (299253,))"
      ]
     },
     "execution_count": 52,
     "metadata": {},
     "output_type": "execute_result"
    }
   ],
   "source": [
    "Xrand_train_cv.shape, yrand_train_cv.shape"
   ]
  },
  {
   "cell_type": "code",
   "execution_count": 53,
   "metadata": {},
   "outputs": [],
   "source": [
    "# random split\n",
    "logit_rand_all_cv = linear_model.LogisticRegressionCV().fit(Xrand_train_cv, yrand_train_cv)"
   ]
  },
  {
   "cell_type": "code",
   "execution_count": 54,
   "metadata": {},
   "outputs": [
    {
     "data": {
      "text/plain": [
       "0.9724681122662096"
      ]
     },
     "execution_count": 54,
     "metadata": {},
     "output_type": "execute_result"
    }
   ],
   "source": [
    "logit_rand_all_cv.score(Xrand_train_cv, yrand_train_cv)"
   ]
  },
  {
   "cell_type": "code",
   "execution_count": 55,
   "metadata": {},
   "outputs": [
    {
     "data": {
      "text/plain": [
       "0.9669182881717843"
      ]
     },
     "execution_count": 55,
     "metadata": {},
     "output_type": "execute_result"
    }
   ],
   "source": [
    "logit_rand_all_cv.score(Xrand_test_combined, yrand_test)"
   ]
  },
  {
   "cell_type": "markdown",
   "metadata": {},
   "source": [
    "About 0.1% improvement (relatively small)."
   ]
  },
  {
   "cell_type": "code",
   "execution_count": 56,
   "metadata": {},
   "outputs": [],
   "source": [
    "# temporal split\n",
    "logit_temp_all_cv = linear_model.LogisticRegressionCV().fit(Xtemp_train_cv, ytemp_train_cv)"
   ]
  },
  {
   "cell_type": "code",
   "execution_count": 57,
   "metadata": {},
   "outputs": [
    {
     "data": {
      "text/plain": [
       "0.970245912321681"
      ]
     },
     "execution_count": 57,
     "metadata": {},
     "output_type": "execute_result"
    }
   ],
   "source": [
    "logit_temp_all_cv.score(Xtemp_train_cv, ytemp_train_cv)"
   ]
  },
  {
   "cell_type": "code",
   "execution_count": 58,
   "metadata": {},
   "outputs": [
    {
     "data": {
      "text/plain": [
       "0.9590388258999729"
      ]
     },
     "execution_count": 58,
     "metadata": {},
     "output_type": "execute_result"
    }
   ],
   "source": [
    "logit_temp_all_cv.score(Xtemp_test_combined, ytemp_test)"
   ]
  },
  {
   "cell_type": "markdown",
   "metadata": {},
   "source": [
    "Also ~0.1% improvement."
   ]
  }
 ],
 "metadata": {
  "kernelspec": {
   "display_name": "Python 3",
   "language": "python",
   "name": "python3"
  },
  "language_info": {
   "codemirror_mode": {
    "name": "ipython",
    "version": 3
   },
   "file_extension": ".py",
   "mimetype": "text/x-python",
   "name": "python",
   "nbconvert_exporter": "python",
   "pygments_lexer": "ipython3",
   "version": "3.6.5"
  }
 },
 "nbformat": 4,
 "nbformat_minor": 2
}
