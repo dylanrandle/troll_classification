{
 "cells": [
  {
   "cell_type": "markdown",
   "metadata": {},
   "source": [
    "## Introduction\n",
    "Encouraged by the discrimnatory power of sentence embeddings observed in our preliminary EDA, we set out to train a Neural Network model on these embeddings, along with some other features. We call it TwitterNet. Our trained network performed well, with a Validation set accuracy of 96.3% (using a random split) and 95.3% (using a temporal split). We achieved similar accuracies for our test set.\n",
    "\n",
    "**The Power of Sentence Embeddings**: To measure the efficacy of sentence embeddings, we conducted an experiment where we substituted the sentence embeddings with Gaussian vectors of same dimension. We did not change the other features (retweets, followers, following). The Neural Net performed poorly with validation accuracy reaching only ~57% by the end of 15 epochs. This confirmed the ability of sentence embeddings to discern among trolls and non-trolls.\n",
    "\n",
    "**Visualizing Layers of TwitterNet**: To understand how TwitterNet is able to discern between Trolls and Non-Trolls, we visualized the output of three fully connected layers of the network. Specifically, we did a forward pass through our network for about 20k training samples, and visualized the first two principal components of the output produced by each layer. Figure 1 below shows the result. One can observe that when just plot the principal components of inputs, the troll and non-troll data is thoroughly mixed. But as we move from the input layer towards the output layer, each successive layer is able to better separate out trolls from non-trolls. \n",
    "\n",
    "**Fig. 1: First Two Principal Components of Outputs of Layers of Trained TwitterNet**\n",
    "We used Random Train-Test-Val split for this experiment.\n",
    "\n",
    "<img src=\"images/layers_random_idx_embed.png\" height=\"600\" width=\"800\">\n",
    "\n",
    "\n",
    "### Data\n",
    "We used Facebook's InferSent sentence embeddings generator to encode the content of tweets. Our hyperparameter settings include using a vocabulary of 100,000 words, and using the GloVE pre-trained word embeddings. Each sentence was converted into a vector of length $4,096$. \n",
    "\n",
    "We concatenated the sentence embedding of each tweet, with three other features (number of 'retweets', number of 'followers', and number of 'following') reulting in an input vector of length $4,099$ which we fed into TwitterNet. We standardized the three additional features using training set mean and standard deviation, before concatenating them with sentence embeddings.\n",
    "\n",
    "### TwitterNet Architecture\n",
    "We used a fully connected Neural Network which we implemented in PyTorch. The table below lists out the details:\n",
    "\n",
    "| Layer Name | Type            | Activation | Input Dimension | Output Dimension |\n",
    "|------------|-----------------|------------|-----------------|------------------|\n",
    "| fc1        | Fully Connected | ReLU       | 4099            | 1024             |\n",
    "| drop1      | Dropout (p=0.7) | -          | 1024            | 1024             |\n",
    "| fc2        | Fully Connected | ReLU       | 1024            | 512              |\n",
    "| drop2      | Dropout (p=0.7) | -          | 512             | 512              |\n",
    "| fc3        | Fully Connected | ReLU       | 512             | 128              |\n",
    "| fc4        | Fully Connected | -          | 128             | 2                |\n",
    "\n",
    "The only form of regularization we used for our network was the two DropOut layers with a Drop probability of 0.7. we trained using SGD with momemtum of 0.9 and a learning rate of 0.1."
   ]
  },
  {
   "cell_type": "markdown",
   "metadata": {},
   "source": [
    "## Results\n",
    "### Summary\n",
    "We trained TwitterNet for 20 epochs for each of random and temporal train-val-test splits. The results are summarized below, and individual experiments follow.\n",
    "\n",
    "| Method                               | Split Type |No. of Epochs| Train Accuracy | Validation Accuracy | Test Accuracy |\n",
    "|--------------------------------------|------------|--|----------------|---------------------|---------------|\n",
    "| Sentence Embeddings  with Neural Net | Random     |20|    96.40%            | 96.30%                     |96.09%               |\n",
    "| Sentence Embeddings  with Neural Net | Temporal   |20|96.48%                |95.31%                     |95.28%               |\n",
    "| Random Embeddings  with Neural Net   | Random     |15|   ~75%             |~57%                     |-               |\n",
    "\n",
    "The last row of the table above shows the results of our experiments when we replaced each $4,096$ long sentence emnbedding with a standard Gaussian vector of same length. We conducted this test to gain confidence in the efficacy of sentence embeddings. As one can observe, the discernability of our Net dropped sharply when we removed the sentence embeddings.\n",
    "\n",
    "### Accuracy Plots\n",
    "Below we show the accuracy plots for the three experiments summarized above. Using sentence embeddings, both training and validation accuracies achieved high levels just after 1-2 full iterations over our training set.\n",
    "\n",
    "\n",
    "**Fig. 2: TwitterNet with Sentence Embeddings and Random Train-Test-Val Split**\n",
    "<img src=\"images/random_idx_acc.png\" height=\"300\" width=\"500\">\n",
    "\n",
    "**Fig. 3: TwitterNet with Sentence Embeddings and Temporal Train-Test-Val Split**\n",
    "<img src=\"images/temporal_idx_acc.png\" height=\"300\" width=\"500\">\n",
    "\n",
    "**Fig. 4: TwitterNet with Random Gaussian Vectors in place of Sentence Embeddings and Random Train-Test-Val Split**\n",
    "<img src=\"images/no_embed_acc.png\" height=\"300\" width=\"500\">"
   ]
  },
  {
   "cell_type": "markdown",
   "metadata": {},
   "source": [
    "## Code"
   ]
  },
  {
   "cell_type": "code",
   "execution_count": 1,
   "metadata": {},
   "outputs": [
    {
     "name": "stderr",
     "output_type": "stream",
     "text": [
      "/home/paperspace/anaconda3/lib/python3.6/site-packages/h5py/__init__.py:34: FutureWarning: Conversion of the second argument of issubdtype from `float` to `np.floating` is deprecated. In future, it will be treated as `np.float64 == np.dtype(float).type`.\n",
      "  from ._conv import register_converters as _register_converters\n"
     ]
    }
   ],
   "source": [
    "# import stuff\n",
    "%load_ext autoreload\n",
    "%autoreload 2\n",
    "%matplotlib inline\n",
    "\n",
    "from random import randint\n",
    "import h5py\n",
    "from tqdm import tqdm_notebook as tqdm\n",
    "\n",
    "import numpy as np\n",
    "import torch\n",
    "import json\n",
    "import pandas as pd\n",
    "import glob\n",
    "import os\n",
    "\n",
    "import sys\n",
    "import warnings\n",
    "warnings.filterwarnings('ignore')\n",
    "\n",
    "# Pytorch\n",
    "import torch.nn as nn\n",
    "import torch.nn.functional as F\n",
    "from torch.optim import SGD\n",
    "from torch.autograd import Variable\n",
    "device = torch.device(\"cuda:0\" if torch.cuda.is_available() else \"cpu\")"
   ]
  },
  {
   "cell_type": "code",
   "execution_count": 2,
   "metadata": {
    "collapsed": true
   },
   "outputs": [],
   "source": [
    "import sys\n",
    "sys.path.insert(0, '/home/paperspace/Twitter/troll_classification/')\n",
    "# print(sys.path)"
   ]
  },
  {
   "cell_type": "code",
   "execution_count": null,
   "metadata": {},
   "outputs": [],
   "source": [
    "# InferSent setup\n",
    "from InferSent.models import *\n",
    "model_version = 1\n",
    "MODEL_PATH = \"../InferSent/encoder/infersent%s.pkl\" % model_version\n",
    "params_model = {'bsize': 64, 'word_emb_dim': 300, 'enc_lstm_dim': 2048,\n",
    "                'pool_type': 'max', 'dpout_model': 0.0, 'version': model_version}\n",
    "model = InferSent(params_model)\n",
    "model.load_state_dict(torch.load(MODEL_PATH))\n",
    "\n",
    "# Keep it on CPU or put it on GPU\n",
    "use_cuda = True\n",
    "model = model.cuda() if use_cuda else model\n",
    "\n",
    "# If infersent1 -> use GloVe embeddings. If infersent2 -> use InferSent embeddings.\n",
    "W2V_PATH = '../InferSent/dataset/GloVe/glove.840B.300d.txt' if model_version == 1 else '../dataset/fastText/crawl-300d-2M.vec'\n",
    "model.set_w2v_path(W2V_PATH)\n",
    "\n",
    "# Load embeddings of K most frequent words\n",
    "model.build_vocab_k_words(K=100000)"
   ]
  },
  {
   "cell_type": "code",
   "execution_count": null,
   "metadata": {
    "collapsed": true
   },
   "outputs": [],
   "source": [
    "def GetEmbeddings(sentences, batch_size=128, verbose=False):\n",
    "    embeddings = model.encode(sentences, bsize=batch_size, tokenize=False, verbose=verbose)\n",
    "    if verbose: print('nb sentences encoded : {0}'.format(len(embeddings)))\n",
    "    return embeddings\n",
    "\n",
    "def GetBatch(df, feature_cols, response,  batch_size=128):\n",
    "    '''\n",
    "    Returns a batch of:\n",
    "    (1) feature_cols\n",
    "    (2) the 'content' column which contains text of the tweet\n",
    "    (3) the response column\n",
    "    '''\n",
    "    \n",
    "    df_size = len(df)\n",
    "    for counter in range(int(len(df)/batch_size)+1):\n",
    "        yield df[feature_cols].iloc[counter*batch_size:min((counter + 1)*batch_size, len(df))], \\\n",
    "        df['content'].iloc[counter*batch_size:min((counter + 1)*batch_size, len(df))], \\\n",
    "        df[response].iloc[counter*batch_size:min((counter + 1)*batch_size, len(df))]"
   ]
  },
  {
   "cell_type": "markdown",
   "metadata": {},
   "source": [
    "## Read Data"
   ]
  },
  {
   "cell_type": "code",
   "execution_count": null,
   "metadata": {
    "collapsed": true
   },
   "outputs": [],
   "source": [
    "in_file = '../data/merged_troll_data.json'\n",
    "data_df = pd.read_json(in_file)"
   ]
  },
  {
   "cell_type": "code",
   "execution_count": null,
   "metadata": {},
   "outputs": [],
   "source": [
    "# Describe of whole dataframe\n",
    "data_df.describe(include='all')"
   ]
  },
  {
   "cell_type": "code",
   "execution_count": null,
   "metadata": {
    "collapsed": true
   },
   "outputs": [],
   "source": [
    "data_df['troll'] = data_df['troll'].astype(int)"
   ]
  },
  {
   "cell_type": "code",
   "execution_count": null,
   "metadata": {},
   "outputs": [],
   "source": [
    "# Add dummy columns for categorical variables\n",
    "print('Unique values for column Troll:', data_df.troll.unique())\n",
    "print('Unique values for column Retweet:', data_df.retweet.unique())\n",
    "print('Unique values for column Acccount Category:', data_df.account_category.unique())"
   ]
  },
  {
   "cell_type": "code",
   "execution_count": null,
   "metadata": {},
   "outputs": [],
   "source": [
    "dummy_cols = ['account_category']\n",
    "for col in dummy_cols:\n",
    "    data_df['Orig_' + col] = data_df[col]\n",
    "    data_df = pd.get_dummies(data_df, columns=[col])\n",
    "list(data_df.columns)"
   ]
  },
  {
   "cell_type": "code",
   "execution_count": null,
   "metadata": {
    "collapsed": true
   },
   "outputs": [],
   "source": [
    "# Set aside columns to be used as features\n",
    "feature_cols = [\n",
    " 'followers',\n",
    " 'following',\n",
    " 'retweet',\n",
    "]"
   ]
  },
  {
   "cell_type": "code",
   "execution_count": null,
   "metadata": {},
   "outputs": [],
   "source": [
    "# Read the indices file\n",
    "index_file = '../data/train_test_inds.json'\n",
    "idx_df = pd.read_json(index_file)\n",
    "idx_df.head()"
   ]
  },
  {
   "cell_type": "code",
   "execution_count": null,
   "metadata": {},
   "outputs": [],
   "source": [
    "def PrepareDataSplits(mode='random', batch_size=128, use_random_embed=False):\n",
    "    TEST_NUM = 0\n",
    "    TRAIN_NUM = 1\n",
    "    VAL_NUM = 2\n",
    "    all_idx = list(idx_df[mode])\n",
    "    sets = ['test', 'train', 'val']\n",
    "    \n",
    "    # Standardize continuous columns based on train set statistics\n",
    "    all_dfs = {}\n",
    "    all_dfs['train'] = data_df.iloc[all_idx[TRAIN_NUM]]\n",
    "    all_dfs['val'] = data_df.iloc[all_idx[VAL_NUM]]\n",
    "    all_dfs['test'] = data_df.iloc[all_idx[TEST_NUM]]\n",
    "    \n",
    "    cols_to_standardize = ['followers', 'following']\n",
    "    for col in cols_to_standardize:\n",
    "        train_mean = all_dfs['train'][col].mean()\n",
    "        train_std = all_dfs['train'][col].std()\n",
    "        for set_type in sets:\n",
    "            all_dfs[set_type][col] = (all_dfs[set_type][col] - train_mean)/train_std\n",
    "    \n",
    "    # Compute embeddings, concatenate with other features, and write to h5py files\n",
    "    feature_length = 4096 + len(feature_cols)\n",
    "    for idx, set_type in enumerate(sets):\n",
    "        if use_random_embed:\n",
    "            embed_file = '../data/' + set_type + '_no_embed_mode_' + mode + '.h5py'\n",
    "        else:\n",
    "            embed_file = '../data/' + set_type + '_embeddings_mode_' + mode + '.h5py'\n",
    "        num_tweets = len(all_idx[idx])\n",
    "        pbar = tqdm(total=num_tweets)\n",
    "        with h5py.File(embed_file, \"a\") as f:\n",
    "            embed_dset = f.create_dataset('features', (num_tweets, feature_length))\n",
    "            response_dset = f.create_dataset('is_troll', (num_tweets,))\n",
    "            counter = 0\n",
    "            for batch in GetBatch(all_dfs[set_type], feature_cols, 'troll', batch_size=batch_size):\n",
    "                other_features = batch[0].values\n",
    "                batch_len = other_features.shape[0]\n",
    "                if use_random_embed:\n",
    "                    embeddings_ = np.random.randn(batch_len, 4096)\n",
    "                else:\n",
    "                    embeddings_  = GetEmbeddings(batch[1].values, batch_size=batch_size)\n",
    "                is_troll_ = batch[2].values\n",
    "                \n",
    "                feature_vec = np.hstack((embeddings_, other_features))\n",
    "                embed_dset[counter:(counter + batch_len)] = feature_vec\n",
    "                response_dset[counter:(counter + batch_len)] = is_troll_\n",
    "                counter += batch_len\n",
    "                pbar.update(batch_len)"
   ]
  },
  {
   "cell_type": "code",
   "execution_count": 3,
   "metadata": {},
   "outputs": [],
   "source": [
    "mode = 'temporal'\n",
    "batch_size = 1024\n",
    "# PrepareDataSplits(mode=mode, batch_size=batch_size, use_random_embed=True)"
   ]
  },
  {
   "cell_type": "code",
   "execution_count": 4,
   "metadata": {
    "collapsed": true
   },
   "outputs": [],
   "source": [
    "# Read h5py file\n",
    "def GetArrays(mode, set_type, use_random_embed=False):\n",
    "    if use_random_embed:\n",
    "        embed_file = '../data/' + set_type + '_no_embed_mode_' + mode + '.h5py'\n",
    "    else:\n",
    "        embed_file = '../data/' + set_type + '_embeddings_mode_' + mode + '.h5py'\n",
    "    with h5py.File(embed_file, \"r\") as f:\n",
    "        keys = list(f.keys())\n",
    "        X = np.array(f[keys[0]])\n",
    "        y = np.array(f[keys[1]])\n",
    "    return X, y"
   ]
  },
  {
   "cell_type": "code",
   "execution_count": 5,
   "metadata": {},
   "outputs": [],
   "source": [
    "X_train, y_train = GetArrays(mode, 'train', use_random_embed=False)\n",
    "X_val, y_val = GetArrays(mode, 'val', use_random_embed=False)"
   ]
  },
  {
   "cell_type": "code",
   "execution_count": 6,
   "metadata": {},
   "outputs": [],
   "source": [
    "def ShuffleArrays(X, y):\n",
    "    arr = np.arange(X.shape[0])\n",
    "    np.random.shuffle(arr)\n",
    "    X = X[arr,:]\n",
    "    y = y[arr]\n",
    "    return X, y\n",
    "def GetTrainBatches(X, y, batch_size=256):\n",
    "    data_len = X.shape[0]\n",
    "    \n",
    "    for counter in range(int(data_len/batch_size)+1):\n",
    "        yield X[counter*batch_size:min((counter + 1)*batch_size, data_len), :], \\\n",
    "        y[counter*batch_size:min((counter + 1)*batch_size, data_len)]"
   ]
  },
  {
   "cell_type": "code",
   "execution_count": 7,
   "metadata": {},
   "outputs": [],
   "source": [
    "class TwitterNet(nn.Module):\n",
    "    def __init__(self, num_classes):\n",
    "        super(TwitterNet, self).__init__()\n",
    "        self.fc1 = nn.Linear(4099,1024)\n",
    "        self.drop1 = nn.Dropout(0.7)\n",
    "        self.fc2 = nn.Linear(1024,512)\n",
    "        self.drop2 = nn.Dropout(0.7)\n",
    "        self.fc3 = nn.Linear(512,128)\n",
    "        self.fc4 = nn.Linear(128,num_classes)\n",
    "    def forward(self, x):\n",
    "        x = F.relu(self.fc1(x))\n",
    "        x = self.drop1(x)\n",
    "        x = F.relu(self.fc2(x))\n",
    "        x = self.drop2(x)\n",
    "        x = F.relu(self.fc3(x))\n",
    "        x = self.fc4(x)\n",
    "        return x"
   ]
  },
  {
   "cell_type": "code",
   "execution_count": 8,
   "metadata": {},
   "outputs": [],
   "source": [
    "X_train = Variable(torch.FloatTensor(X_train))\n",
    "y_train = Variable(torch.FloatTensor(y_train))\n",
    "X_val = Variable(torch.FloatTensor(X_val))\n",
    "y_val = Variable(torch.FloatTensor(y_val))"
   ]
  },
  {
   "cell_type": "code",
   "execution_count": 9,
   "metadata": {},
   "outputs": [],
   "source": [
    "criterion = nn.CrossEntropyLoss()\n",
    "model_net = TwitterNet(2).to(device)\n",
    "optimizer = SGD(model_net.parameters(), lr = 0.1, momentum=0.9)\n",
    "num_epochs = 20\n",
    "batch_size = 1024"
   ]
  },
  {
   "cell_type": "code",
   "execution_count": 10,
   "metadata": {},
   "outputs": [
    {
     "name": "stdout",
     "output_type": "stream",
     "text": [
      "Validation Accuracy on untrained net is 23.74%\n"
     ]
    }
   ],
   "source": [
    "# Check accuracy on untrained network (with randomly initialized weights)\n",
    "torch.set_grad_enabled(False)\n",
    "running_corrects = 0\n",
    "for inputs, labels in GetTrainBatches(X_val, y_val, batch_size):\n",
    "    inputs = inputs.to(device)\n",
    "    labels = labels.to(device)\n",
    "    outputs = model_net(inputs)\n",
    "    _, preds = torch.max(outputs, 1)\n",
    "    running_corrects += torch.sum(preds == labels.long().data)\n",
    "val_acc = running_corrects.double()/X_val.shape[0]\n",
    "torch.set_grad_enabled(True)\n",
    "print('Validation Accuracy on untrained net is {:.2%}'.format(val_acc))"
   ]
  },
  {
   "cell_type": "code",
   "execution_count": 11,
   "metadata": {},
   "outputs": [
    {
     "name": "stdout",
     "output_type": "stream",
     "text": [
      "Loss after epoch 1 is 78.958. Train Acc. is 85.01% and Validation Acc. is 94.04%\n",
      "Loss after epoch 2 is 30.638. Train Acc. is 95.81% and Validation Acc. is 94.75%\n",
      "Loss after epoch 3 is 29.235. Train Acc. is 95.94% and Validation Acc. is 94.51%\n",
      "Loss after epoch 4 is 30.943. Train Acc. is 95.68% and Validation Acc. is 91.69%\n",
      "Loss after epoch 5 is 31.550. Train Acc. is 95.52% and Validation Acc. is 93.89%\n",
      "Loss after epoch 6 is 30.326. Train Acc. is 95.71% and Validation Acc. is 95.52%\n",
      "Loss after epoch 7 is 29.282. Train Acc. is 95.83% and Validation Acc. is 94.36%\n",
      "Loss after epoch 8 is 29.124. Train Acc. is 95.82% and Validation Acc. is 94.70%\n",
      "Loss after epoch 9 is 27.676. Train Acc. is 96.02% and Validation Acc. is 94.57%\n",
      "Loss after epoch 10 is 27.187. Train Acc. is 96.05% and Validation Acc. is 94.81%\n",
      "Loss after epoch 11 is 26.036. Train Acc. is 96.24% and Validation Acc. is 94.99%\n",
      "Loss after epoch 12 is 26.116. Train Acc. is 96.22% and Validation Acc. is 94.97%\n",
      "Loss after epoch 13 is 25.381. Train Acc. is 96.35% and Validation Acc. is 95.24%\n",
      "Loss after epoch 14 is 25.292. Train Acc. is 96.32% and Validation Acc. is 95.21%\n",
      "Loss after epoch 15 is 24.921. Train Acc. is 96.36% and Validation Acc. is 95.37%\n",
      "Loss after epoch 16 is 24.617. Train Acc. is 96.44% and Validation Acc. is 95.15%\n",
      "Loss after epoch 17 is 24.267. Train Acc. is 96.46% and Validation Acc. is 94.96%\n",
      "Loss after epoch 18 is 23.999. Train Acc. is 96.50% and Validation Acc. is 95.27%\n",
      "Loss after epoch 19 is 23.920. Train Acc. is 96.51% and Validation Acc. is 94.85%\n",
      "Loss after epoch 20 is 24.002. Train Acc. is 96.48% and Validation Acc. is 95.28%\n"
     ]
    }
   ],
   "source": [
    "torch.set_grad_enabled(True)\n",
    "train_acc_hist = []\n",
    "val_acc_hist = []\n",
    "for epoch in range(num_epochs):\n",
    "    X_train, y_train = ShuffleArrays(X_train, y_train)\n",
    "    running_loss = 0.0\n",
    "    train_corrects = 0\n",
    "    \n",
    "    for inputs, labels in GetTrainBatches(X_train, y_train, batch_size):\n",
    "        inputs = inputs.to(device)\n",
    "        labels = labels.to(device)\n",
    "        # zero the parameter gradients\n",
    "        optimizer.zero_grad()\n",
    "        \n",
    "        # forward pass\n",
    "        outputs = model_net(inputs)\n",
    "        loss = criterion(outputs, labels.long())\n",
    "        _, preds = torch.max(outputs, 1)\n",
    "        train_corrects += torch.sum(preds == labels.long().data)\n",
    "        \n",
    "        # backward pass\n",
    "        loss.backward()\n",
    "        optimizer.step()\n",
    "        running_loss += loss.item()\n",
    "    # Validation set accuracy\n",
    "    train_acc = train_corrects.double()/X_train.shape[0]\n",
    "    torch.set_grad_enabled(False)\n",
    "    running_corrects = 0\n",
    "    for inputs, labels in GetTrainBatches(X_val, y_val, batch_size):\n",
    "        inputs = inputs.to(device)\n",
    "        labels = labels.to(device)\n",
    "        outputs = model_net(inputs)\n",
    "        _, preds = torch.max(outputs, 1)\n",
    "        running_corrects += torch.sum(preds == labels.long().data)\n",
    "    val_acc = running_corrects.double()/X_val.shape[0]\n",
    "    train_acc_hist += [train_acc]\n",
    "    val_acc_hist += [val_acc]\n",
    "    torch.set_grad_enabled(True)\n",
    "    print('Loss after epoch {} is {:.3f}. Train Acc. is {:.2%} and Validation Acc. is {:.2%}'.\\\n",
    "          format(epoch+1, running_loss, train_acc, val_acc))"
   ]
  },
  {
   "cell_type": "code",
   "execution_count": 12,
   "metadata": {},
   "outputs": [
    {
     "name": "stdout",
     "output_type": "stream",
     "text": [
      "Validation Accuracy on trained net is 95.31%\n"
     ]
    }
   ],
   "source": [
    "# Check accuracy on trained network\n",
    "torch.set_grad_enabled(False)\n",
    "running_corrects = 0\n",
    "for inputs, labels in GetTrainBatches(X_val, y_val, batch_size):\n",
    "    inputs = inputs.to(device)\n",
    "    labels = labels.to(device)\n",
    "    outputs = model_net(inputs)\n",
    "    _, preds = torch.max(outputs, 1)\n",
    "    running_corrects += torch.sum(preds == labels.long().data)\n",
    "val_acc = running_corrects.double()/X_val.shape[0]\n",
    "torch.set_grad_enabled(True)\n",
    "print('Validation Accuracy on trained net is {:.2%}'.format(val_acc))"
   ]
  },
  {
   "cell_type": "code",
   "execution_count": 13,
   "metadata": {},
   "outputs": [],
   "source": [
    "# Test Set\n",
    "X_test, y_test = GetArrays(mode, 'test')"
   ]
  },
  {
   "cell_type": "code",
   "execution_count": 14,
   "metadata": {},
   "outputs": [
    {
     "name": "stdout",
     "output_type": "stream",
     "text": [
      "Test Accuracy on trained net is 95.28%\n"
     ]
    }
   ],
   "source": [
    "X_test = Variable(torch.FloatTensor(X_test))\n",
    "y_test = Variable(torch.FloatTensor(y_test))\n",
    "\n",
    "# Check test accuracy on trained network\n",
    "torch.set_grad_enabled(False)\n",
    "running_corrects = 0\n",
    "for inputs, labels in GetTrainBatches(X_test, y_test, batch_size):\n",
    "    inputs = inputs.to(device)\n",
    "    labels = labels.to(device)\n",
    "    outputs = model_net(inputs)\n",
    "    _, preds = torch.max(outputs, 1)\n",
    "    running_corrects += torch.sum(preds == labels.long().data)\n",
    "test_acc = running_corrects.double()/X_test.shape[0]\n",
    "torch.set_grad_enabled(True)\n",
    "print('Test Accuracy on trained net is {:.2%}'.format(test_acc))"
   ]
  },
  {
   "cell_type": "code",
   "execution_count": 15,
   "metadata": {},
   "outputs": [
    {
     "data": {
      "text/plain": [
       "<torch.autograd.grad_mode.set_grad_enabled at 0x7f7e7bd87278>"
      ]
     },
     "execution_count": 15,
     "metadata": {},
     "output_type": "execute_result"
    }
   ],
   "source": [
    "# See how the model separates\n",
    "num_batches = 20\n",
    "batch_size = 1024\n",
    "torch.set_grad_enabled(False)\n",
    "l1, l2, l3 = None, None, None\n",
    "all_in = None\n",
    "all_labels = None\n",
    "for i in range(num_batches):\n",
    "    inputs, labels = next(GetTrainBatches(X_train, y_train, batch_size))\n",
    "    inputs = inputs.to(device)\n",
    "    labels = labels.to(device)\n",
    "\n",
    "    layer1_out = F.relu(model_net.fc1(inputs))\n",
    "    layer2_out = F.relu(model_net.fc2(layer1_out))\n",
    "    layer3_out = F.relu(model_net.fc3(layer2_out))\n",
    "    \n",
    "    if all_in is None: all_in = inputs.cpu().numpy()\n",
    "    else:              all_in = np.vstack((all_in, inputs.cpu().numpy()))\n",
    "    \n",
    "    if l1 is None: l1 = layer1_out.cpu().numpy()\n",
    "    else:          l1 = np.vstack((l1, layer1_out.cpu().numpy()))\n",
    "    \n",
    "    if l2 is None: l2 = layer2_out.cpu().numpy()\n",
    "    else:          l2 = np.vstack((l2, layer2_out.cpu().numpy()))\n",
    "        \n",
    "    if l3 is None: l3 = layer3_out.cpu().numpy()\n",
    "    else:          l3 = np.vstack((l3, layer3_out.cpu().numpy()))\n",
    "        \n",
    "    if all_labels is None: all_labels = labels.cpu().numpy()\n",
    "    else:                  all_labels = np.hstack((all_labels, labels.cpu().numpy()))\n",
    "torch.set_grad_enabled(True)"
   ]
  },
  {
   "cell_type": "code",
   "execution_count": 16,
   "metadata": {},
   "outputs": [],
   "source": [
    "# PLot prin components\n",
    "from sklearn.decomposition import PCA\n",
    "import matplotlib.pyplot as plt"
   ]
  },
  {
   "cell_type": "code",
   "execution_count": 17,
   "metadata": {},
   "outputs": [
    {
     "name": "stdout",
     "output_type": "stream",
     "text": [
      "Variance explained by first two components for inputs is  [0.13639076 0.08243444]\n",
      "Variance explained by first two components for layer 1 is  [0.4066578  0.17972784]\n",
      "Variance explained by first two components for layer 2 is  [0.7510138  0.22605978]\n",
      "Variance explained by first two components for layer 3 is  [0.9592463 0.0393222]\n"
     ]
    }
   ],
   "source": [
    "pca_in = PCA(n_components=2)\n",
    "pca_in.fit(all_in)\n",
    "print('Variance explained by first two components for inputs is ', pca_in.explained_variance_ratio_)\n",
    "tfm_in = pca_in.transform(all_in)\n",
    "\n",
    "pca1 = PCA(n_components=2)\n",
    "pca1.fit(l1)\n",
    "print('Variance explained by first two components for layer 1 is ', pca1.explained_variance_ratio_)\n",
    "tfm_l1 = pca1.transform(l1)\n",
    "\n",
    "pca2 = PCA(n_components=2)\n",
    "pca2.fit(l2)\n",
    "print('Variance explained by first two components for layer 2 is ', pca2.explained_variance_ratio_)\n",
    "tfm_l2 = pca2.transform(l2)\n",
    "\n",
    "pca3 = PCA(n_components=2)\n",
    "pca3.fit(l3)\n",
    "print('Variance explained by first two components for layer 3 is ', pca3.explained_variance_ratio_)\n",
    "tfm_l3 = pca3.transform(l3)"
   ]
  },
  {
   "cell_type": "code",
   "execution_count": 18,
   "metadata": {},
   "outputs": [
    {
     "data": {
      "image/png": "[encoded data removed]",
      "text/plain": [
       "<matplotlib.figure.Figure at 0x7f7e14eb63c8>"
      ]
     },
     "metadata": {},
     "output_type": "display_data"
    }
   ],
   "source": [
    "fig, ax = plt.subplots(2,2)\n",
    "fig.set_size_inches(15, 10)\n",
    "s = 20\n",
    "alpha = 0.5\n",
    "_ = ax[0,0].set_title('Inputs', fontsize=14, weight='bold')\n",
    "_ = ax[0,0].scatter(tfm_in[all_labels == 1, 0], tfm_in[all_labels == 1, 1], label='Trolls', s=s, alpha=alpha, color='red', marker='o')\n",
    "_ = ax[0,0].scatter(tfm_in[all_labels == 0, 0], tfm_in[all_labels == 0, 1], label='Not Trolls', s=s, alpha=alpha, color='blue', marker='o')\n",
    "\n",
    "\n",
    "_ = ax[0,1].set_title('Layer 1', fontsize=14, weight='bold')\n",
    "_ = ax[0,1].scatter(tfm_l1[all_labels == 1, 0], tfm_l1[all_labels == 1, 1], label='Trolls', s=s, alpha=alpha, color='red', marker='o')\n",
    "_ = ax[0,1].scatter(tfm_l1[all_labels == 0, 0], tfm_l1[all_labels == 0, 1], label='Not Trolls', s=s, alpha=alpha, color='blue', marker='o')\n",
    "\n",
    "_ = ax[1,0].set_title('Layer 2', fontsize=14, weight='bold')\n",
    "_ = ax[1,0].scatter(tfm_l2[all_labels == 1, 0], tfm_l2[all_labels == 1, 1], label='Trolls', s=s, alpha=alpha, color='red', marker='o')\n",
    "_ = ax[1,0].scatter(tfm_l2[all_labels == 0, 0], tfm_l2[all_labels == 0, 1], label='Not Trolls', s=s, alpha=alpha, color='blue', marker='o')\n",
    "\n",
    "_ = ax[1,1].set_title('Layer 3', fontsize=14, weight='bold')\n",
    "_ = ax[1,1].scatter(tfm_l3[all_labels == 1, 0], tfm_l3[all_labels == 1, 1], label='Trolls', s=s, alpha=0.1, color='red', marker='o')\n",
    "_ = ax[1,1].scatter(tfm_l3[all_labels == 0, 0], tfm_l3[all_labels == 0, 1], label='Not Trolls', s=s, alpha=0.1, color='blue', marker='o')\n",
    "\n",
    "for i in range(2):\n",
    "    for j in range(2):\n",
    "#         _ = ax[i,j].set_xlim(-3, 3)\n",
    "#         _ = ax[i,j].set_ylim(-3, 3)\n",
    "        _ = ax[i,j].set_xlabel('Principal Component 1', fontsize=12)\n",
    "        _ = ax[i,j].set_ylabel('Principal Component 2', fontsize=12)\n",
    "        _ = ax[i,j].legend(loc='best', fontsize=14)\n",
    "fig.suptitle('First Two Principal Components for Outputs of Neural Net Layers', fontsize=16, weight='bold')\n",
    "fig.savefig('layers_temporal_idx_embed.png')"
   ]
  },
  {
   "cell_type": "code",
   "execution_count": 19,
   "metadata": {},
   "outputs": [
    {
     "data": {
      "image/png": "[encoded data removed]",
      "text/plain": [
       "<matplotlib.figure.Figure at 0x7f7e11789898>"
      ]
     },
     "metadata": {},
     "output_type": "display_data"
    }
   ],
   "source": [
    "# Plot loss curves\n",
    "fig = plt.gcf()\n",
    "fig.set_size_inches(9, 6)\n",
    "_ = plt.plot(np.arange(num_epochs)+1, val_acc_hist, label='Validation Accuracy', color='blue')\n",
    "_ = plt.plot(np.arange(num_epochs)+1, train_acc_hist, label='Training Accuracy', color='k')\n",
    "_ = plt.legend(loc='best', fontsize=13)\n",
    "_ = plt.xlabel('Epoch', fontsize=14)\n",
    "_ = plt.ylabel('Accuracy', fontsize=14)\n",
    "_ = plt.title('Accuracies when using Random Vectors as Embeddings', fontsize=15, weight='bold')\n",
    "fig.savefig('temporal_idx_acc.png')"
   ]
  },
  {
   "cell_type": "code",
   "execution_count": null,
   "metadata": {
    "collapsed": true
   },
   "outputs": [],
   "source": []
  }
 ],
 "metadata": {
  "kernelspec": {
   "display_name": "Python 3",
   "language": "python",
   "name": "python3"
  },
  "language_info": {
   "codemirror_mode": {
    "name": "ipython",
    "version": 3
   },
   "file_extension": ".py",
   "mimetype": "text/x-python",
   "name": "python",
   "nbconvert_exporter": "python",
   "pygments_lexer": "ipython3",
   "version": "3.6.4"
  }
 },
 "nbformat": 4,
 "nbformat_minor": 2
}
