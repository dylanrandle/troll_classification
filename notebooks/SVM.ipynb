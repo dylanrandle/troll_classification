{
 "cells": [
  {
   "cell_type": "code",
   "execution_count": 1,
   "metadata": {},
   "outputs": [],
   "source": [
    "import pandas as pd\n",
    "import sklearn\n",
    "import numpy as np"
   ]
  },
  {
   "cell_type": "code",
   "execution_count": 2,
   "metadata": {},
   "outputs": [
    {
     "name": "stderr",
     "output_type": "stream",
     "text": [
      "/anaconda3/lib/python3.6/site-packages/IPython/core/interactiveshell.py:2785: DtypeWarning: Columns (0,4,7) have mixed types. Specify dtype option on import or set low_memory=False.\n",
      "  interactivity=interactivity, compiler=compiler, result=result)\n"
     ]
    }
   ],
   "source": [
    "df=pd.read_csv(\"../data/merged_troll_data.csv\")"
   ]
  },
  {
   "cell_type": "code",
   "execution_count": 3,
   "metadata": {},
   "outputs": [
    {
     "data": {
      "text/plain": [
       "(332544, 9)"
      ]
     },
     "execution_count": 3,
     "metadata": {},
     "output_type": "execute_result"
    }
   ],
   "source": [
    "df.shape"
   ]
  },
  {
   "cell_type": "code",
   "execution_count": 4,
   "metadata": {},
   "outputs": [
    {
     "data": {
      "text/html": [
       "<div>\n",
       "<style scoped>\n",
       "    .dataframe tbody tr th:only-of-type {\n",
       "        vertical-align: middle;\n",
       "    }\n",
       "\n",
       "    .dataframe tbody tr th {\n",
       "        vertical-align: top;\n",
       "    }\n",
       "\n",
       "    .dataframe thead th {\n",
       "        text-align: right;\n",
       "    }\n",
       "</style>\n",
       "<table border=\"1\" class=\"dataframe\">\n",
       "  <thead>\n",
       "    <tr style=\"text-align: right;\">\n",
       "      <th></th>\n",
       "      <th>Unnamed: 0</th>\n",
       "      <th>content</th>\n",
       "      <th>followers</th>\n",
       "      <th>following</th>\n",
       "      <th>retweet</th>\n",
       "      <th>account_category</th>\n",
       "      <th>created_at</th>\n",
       "      <th>troll</th>\n",
       "      <th>orig_index</th>\n",
       "    </tr>\n",
       "  </thead>\n",
       "  <tbody>\n",
       "    <tr>\n",
       "      <th>0</th>\n",
       "      <td>54215</td>\n",
       "      <td>Prosecutors say he wanted to use explosives an...</td>\n",
       "      <td>1791.0</td>\n",
       "      <td>4099.0</td>\n",
       "      <td>0</td>\n",
       "      <td>LeftTroll</td>\n",
       "      <td>2016-07-01 00:00:00</td>\n",
       "      <td>True</td>\n",
       "      <td>309918.0</td>\n",
       "    </tr>\n",
       "    <tr>\n",
       "      <th>1</th>\n",
       "      <td>140798</td>\n",
       "      <td>Vintage #BlackGirlMagic  Harlem Beauty Pageant...</td>\n",
       "      <td>1819.0</td>\n",
       "      <td>2463.0</td>\n",
       "      <td>0</td>\n",
       "      <td>LeftTroll</td>\n",
       "      <td>2016-07-01 00:01:00</td>\n",
       "      <td>True</td>\n",
       "      <td>366618.0</td>\n",
       "    </tr>\n",
       "    <tr>\n",
       "      <th>2</th>\n",
       "      <td>157319</td>\n",
       "      <td>Rio de Janeiro police greet Olympics tourists ...</td>\n",
       "      <td>16170.0</td>\n",
       "      <td>13495.0</td>\n",
       "      <td>0</td>\n",
       "      <td>RightTroll</td>\n",
       "      <td>2016-07-01 00:03:00</td>\n",
       "      <td>True</td>\n",
       "      <td>222542.0</td>\n",
       "    </tr>\n",
       "    <tr>\n",
       "      <th>3</th>\n",
       "      <td>47942</td>\n",
       "      <td>All parents should be like this!! â¤ï¸ https...</td>\n",
       "      <td>2451.0</td>\n",
       "      <td>4028.0</td>\n",
       "      <td>0</td>\n",
       "      <td>LeftTroll</td>\n",
       "      <td>2016-07-01 00:19:00</td>\n",
       "      <td>True</td>\n",
       "      <td>91979.0</td>\n",
       "    </tr>\n",
       "    <tr>\n",
       "      <th>4</th>\n",
       "      <td>140799</td>\n",
       "      <td>Community worried about more than a dozen miss...</td>\n",
       "      <td>1819.0</td>\n",
       "      <td>2463.0</td>\n",
       "      <td>0</td>\n",
       "      <td>LeftTroll</td>\n",
       "      <td>2016-07-01 00:25:00</td>\n",
       "      <td>True</td>\n",
       "      <td>366619.0</td>\n",
       "    </tr>\n",
       "  </tbody>\n",
       "</table>\n",
       "</div>"
      ],
      "text/plain": [
       "  Unnamed: 0                                            content  followers  \\\n",
       "0      54215  Prosecutors say he wanted to use explosives an...     1791.0   \n",
       "1     140798  Vintage #BlackGirlMagic  Harlem Beauty Pageant...     1819.0   \n",
       "2     157319  Rio de Janeiro police greet Olympics tourists ...    16170.0   \n",
       "3      47942  All parents should be like this!! â¤ï¸ https...     2451.0   \n",
       "4     140799  Community worried about more than a dozen miss...     1819.0   \n",
       "\n",
       "   following retweet account_category           created_at troll  orig_index  \n",
       "0     4099.0       0        LeftTroll  2016-07-01 00:00:00  True    309918.0  \n",
       "1     2463.0       0        LeftTroll  2016-07-01 00:01:00  True    366618.0  \n",
       "2    13495.0       0       RightTroll  2016-07-01 00:03:00  True    222542.0  \n",
       "3     4028.0       0        LeftTroll  2016-07-01 00:19:00  True     91979.0  \n",
       "4     2463.0       0        LeftTroll  2016-07-01 00:25:00  True    366619.0  "
      ]
     },
     "execution_count": 4,
     "metadata": {},
     "output_type": "execute_result"
    }
   ],
   "source": [
    "df.head()"
   ]
  },
  {
   "cell_type": "code",
   "execution_count": null,
   "metadata": {},
   "outputs": [],
   "source": []
  }
 ],
 "metadata": {
  "kernelspec": {
   "display_name": "Python 3",
   "language": "python",
   "name": "python3"
  },
  "language_info": {
   "codemirror_mode": {
    "name": "ipython",
    "version": 3
   },
   "file_extension": ".py",
   "mimetype": "text/x-python",
   "name": "python",
   "nbconvert_exporter": "python",
   "pygments_lexer": "ipython3",
   "version": "3.6.5"
  }
 },
 "nbformat": 4,
 "nbformat_minor": 2
}
