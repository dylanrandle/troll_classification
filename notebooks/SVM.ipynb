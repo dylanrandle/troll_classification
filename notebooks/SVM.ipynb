{
 "cells": [
  {
   "cell_type": "code",
   "execution_count": 154,
   "metadata": {},
   "outputs": [],
   "source": [
    "import pandas as pd\n",
    "import numpy as np\n",
    "from sklearn import feature_extraction\n",
    "from sklearn import svm\n",
    "from sklearn import preprocessing\n",
    "from scipy import sparse"
   ]
  },
  {
   "cell_type": "markdown",
   "metadata": {},
   "source": [
    "## Load Data and Train/Test Split(s)"
   ]
  },
  {
   "cell_type": "code",
   "execution_count": 14,
   "metadata": {},
   "outputs": [],
   "source": [
    "df=pd.read_json(\"../data/merged_troll_data.json\")"
   ]
  },
  {
   "cell_type": "code",
   "execution_count": 15,
   "metadata": {},
   "outputs": [
    {
     "data": {
      "text/plain": [
       "(332504, 8)"
      ]
     },
     "execution_count": 15,
     "metadata": {},
     "output_type": "execute_result"
    }
   ],
   "source": [
    "df.shape"
   ]
  },
  {
   "cell_type": "code",
   "execution_count": 16,
   "metadata": {},
   "outputs": [
    {
     "data": {
      "text/html": [
       "<div>\n",
       "<style scoped>\n",
       "    .dataframe tbody tr th:only-of-type {\n",
       "        vertical-align: middle;\n",
       "    }\n",
       "\n",
       "    .dataframe tbody tr th {\n",
       "        vertical-align: top;\n",
       "    }\n",
       "\n",
       "    .dataframe thead th {\n",
       "        text-align: right;\n",
       "    }\n",
       "</style>\n",
       "<table border=\"1\" class=\"dataframe\">\n",
       "  <thead>\n",
       "    <tr style=\"text-align: right;\">\n",
       "      <th></th>\n",
       "      <th>content</th>\n",
       "      <th>followers</th>\n",
       "      <th>following</th>\n",
       "      <th>retweet</th>\n",
       "      <th>account_category</th>\n",
       "      <th>created_at</th>\n",
       "      <th>troll</th>\n",
       "      <th>orig_index</th>\n",
       "    </tr>\n",
       "  </thead>\n",
       "  <tbody>\n",
       "    <tr>\n",
       "      <th>307969</th>\n",
       "      <td>@AIIAmericanGirI @CommonSense1212 @realDonaldT...</td>\n",
       "      <td>2267</td>\n",
       "      <td>219</td>\n",
       "      <td>0</td>\n",
       "      <td>NonTroll</td>\n",
       "      <td>2016-11-03 14:35:17</td>\n",
       "      <td>False</td>\n",
       "      <td>31589</td>\n",
       "    </tr>\n",
       "    <tr>\n",
       "      <th>135312</th>\n",
       "      <td>'\\|ï¿£ï¿£ï¿£ï¿£ï¿£ï¿£\\| \\|          33       \\...</td>\n",
       "      <td>629</td>\n",
       "      <td>364</td>\n",
       "      <td>1</td>\n",
       "      <td>LeftTroll</td>\n",
       "      <td>2016-10-06 13:33:00</td>\n",
       "      <td>True</td>\n",
       "      <td>331179</td>\n",
       "    </tr>\n",
       "    <tr>\n",
       "      <th>82234</th>\n",
       "      <td>'@WOOKIE318 I hope you also pissed off when Cl...</td>\n",
       "      <td>12321</td>\n",
       "      <td>9091</td>\n",
       "      <td>0</td>\n",
       "      <td>RightTroll</td>\n",
       "      <td>2016-09-08 01:39:00</td>\n",
       "      <td>True</td>\n",
       "      <td>252179</td>\n",
       "    </tr>\n",
       "    <tr>\n",
       "      <th>300364</th>\n",
       "      <td>RT @HillaryClinton: \"Everything I’ve done star...</td>\n",
       "      <td>3228</td>\n",
       "      <td>3703</td>\n",
       "      <td>1</td>\n",
       "      <td>NonTroll</td>\n",
       "      <td>2016-11-04 03:02:13</td>\n",
       "      <td>False</td>\n",
       "      <td>5521</td>\n",
       "    </tr>\n",
       "    <tr>\n",
       "      <th>37315</th>\n",
       "      <td>\"Understanding will never bring you peace. Tha...</td>\n",
       "      <td>542</td>\n",
       "      <td>686</td>\n",
       "      <td>1</td>\n",
       "      <td>LeftTroll</td>\n",
       "      <td>2016-08-07 13:32:00</td>\n",
       "      <td>True</td>\n",
       "      <td>303267</td>\n",
       "    </tr>\n",
       "  </tbody>\n",
       "</table>\n",
       "</div>"
      ],
      "text/plain": [
       "                                                  content  followers  \\\n",
       "307969  @AIIAmericanGirI @CommonSense1212 @realDonaldT...       2267   \n",
       "135312  '\\|ï¿£ï¿£ï¿£ï¿£ï¿£ï¿£\\| \\|          33       \\...        629   \n",
       "82234   '@WOOKIE318 I hope you also pissed off when Cl...      12321   \n",
       "300364  RT @HillaryClinton: \"Everything I’ve done star...       3228   \n",
       "37315   \"Understanding will never bring you peace. Tha...        542   \n",
       "\n",
       "        following  retweet account_category          created_at  troll  \\\n",
       "307969        219        0         NonTroll 2016-11-03 14:35:17  False   \n",
       "135312        364        1        LeftTroll 2016-10-06 13:33:00   True   \n",
       "82234        9091        0       RightTroll 2016-09-08 01:39:00   True   \n",
       "300364       3703        1         NonTroll 2016-11-04 03:02:13  False   \n",
       "37315         686        1        LeftTroll 2016-08-07 13:32:00   True   \n",
       "\n",
       "        orig_index  \n",
       "307969       31589  \n",
       "135312      331179  \n",
       "82234       252179  \n",
       "300364        5521  \n",
       "37315       303267  "
      ]
     },
     "execution_count": 16,
     "metadata": {},
     "output_type": "execute_result"
    }
   ],
   "source": [
    "df.sample(5).head()"
   ]
  },
  {
   "cell_type": "code",
   "execution_count": 17,
   "metadata": {},
   "outputs": [],
   "source": [
    "ids=pd.read_json(\"../data/train_test_inds.json\")"
   ]
  },
  {
   "cell_type": "code",
   "execution_count": 94,
   "metadata": {},
   "outputs": [
    {
     "data": {
      "text/plain": [
       "266003"
      ]
     },
     "execution_count": 94,
     "metadata": {},
     "output_type": "execute_result"
    }
   ],
   "source": [
    "len(ids.random.train)"
   ]
  },
  {
   "cell_type": "markdown",
   "metadata": {},
   "source": [
    "## Prepare feature matrix"
   ]
  },
  {
   "cell_type": "markdown",
   "metadata": {},
   "source": [
    "### Isolate matrices"
   ]
  },
  {
   "cell_type": "code",
   "execution_count": 41,
   "metadata": {},
   "outputs": [],
   "source": [
    "def getxy(ids, feature_cols=['content', 'followers', 'following', 'retweet'], label_col=['troll']):\n",
    "    return df[feature_cols].iloc[ids], df[label_col].iloc[ids]"
   ]
  },
  {
   "cell_type": "code",
   "execution_count": 114,
   "metadata": {},
   "outputs": [],
   "source": [
    "# random\n",
    "Xrand_train, yrand_train = getxy(ids.random.train)\n",
    "Xrand_val, yrand_val = getxy(ids.random.val)\n",
    "Xrand_test, yrand_test = getxy(ids.random.test)\n",
    "\n",
    "# temporal\n",
    "Xtemp_train, ytemp_train = getxy(ids.temporal.train)\n",
    "Xtemp_val, ytemp_val = getxy(ids.temporal.val)\n",
    "Xtemp_test, ytemp_test = getxy(ids.temporal.test)"
   ]
  },
  {
   "cell_type": "code",
   "execution_count": 115,
   "metadata": {},
   "outputs": [
    {
     "data": {
      "text/html": [
       "<div>\n",
       "<style scoped>\n",
       "    .dataframe tbody tr th:only-of-type {\n",
       "        vertical-align: middle;\n",
       "    }\n",
       "\n",
       "    .dataframe tbody tr th {\n",
       "        vertical-align: top;\n",
       "    }\n",
       "\n",
       "    .dataframe thead th {\n",
       "        text-align: right;\n",
       "    }\n",
       "</style>\n",
       "<table border=\"1\" class=\"dataframe\">\n",
       "  <thead>\n",
       "    <tr style=\"text-align: right;\">\n",
       "      <th></th>\n",
       "      <th>content</th>\n",
       "      <th>followers</th>\n",
       "      <th>following</th>\n",
       "      <th>retweet</th>\n",
       "    </tr>\n",
       "  </thead>\n",
       "  <tbody>\n",
       "    <tr>\n",
       "      <th>204024</th>\n",
       "      <td>RT @businessinsider: OBAMA: The press doesn’t ...</td>\n",
       "      <td>14525</td>\n",
       "      <td>3311</td>\n",
       "      <td>1</td>\n",
       "    </tr>\n",
       "    <tr>\n",
       "      <th>45854</th>\n",
       "      <td>Review: Generation Startup https://t.co/lej8O8...</td>\n",
       "      <td>3086</td>\n",
       "      <td>2387</td>\n",
       "      <td>1</td>\n",
       "    </tr>\n",
       "    <tr>\n",
       "      <th>199686</th>\n",
       "      <td>RT @Kidrambler: @TomiLahren Vote for Gary John...</td>\n",
       "      <td>1117</td>\n",
       "      <td>3742</td>\n",
       "      <td>1</td>\n",
       "    </tr>\n",
       "    <tr>\n",
       "      <th>115712</th>\n",
       "      <td>in interpersonal relations with pple who are m...</td>\n",
       "      <td>936</td>\n",
       "      <td>582</td>\n",
       "      <td>1</td>\n",
       "    </tr>\n",
       "    <tr>\n",
       "      <th>245728</th>\n",
       "      <td>RT @PeterTownsend7: The Real #WarOnWomen  #isi...</td>\n",
       "      <td>2891</td>\n",
       "      <td>1615</td>\n",
       "      <td>1</td>\n",
       "    </tr>\n",
       "  </tbody>\n",
       "</table>\n",
       "</div>"
      ],
      "text/plain": [
       "                                                  content  followers  \\\n",
       "204024  RT @businessinsider: OBAMA: The press doesn’t ...      14525   \n",
       "45854   Review: Generation Startup https://t.co/lej8O8...       3086   \n",
       "199686  RT @Kidrambler: @TomiLahren Vote for Gary John...       1117   \n",
       "115712  in interpersonal relations with pple who are m...        936   \n",
       "245728  RT @PeterTownsend7: The Real #WarOnWomen  #isi...       2891   \n",
       "\n",
       "        following  retweet  \n",
       "204024       3311        1  \n",
       "45854        2387        1  \n",
       "199686       3742        1  \n",
       "115712        582        1  \n",
       "245728       1615        1  "
      ]
     },
     "execution_count": 115,
     "metadata": {},
     "output_type": "execute_result"
    }
   ],
   "source": [
    "Xrand_train.head()"
   ]
  },
  {
   "cell_type": "code",
   "execution_count": 118,
   "metadata": {},
   "outputs": [
    {
     "data": {
      "text/plain": [
       "((266003, 4), (266003, 1))"
      ]
     },
     "execution_count": 118,
     "metadata": {},
     "output_type": "execute_result"
    }
   ],
   "source": [
    "Xrand_train.shape, yrand_train.shape"
   ]
  },
  {
   "cell_type": "markdown",
   "metadata": {},
   "source": [
    "### Tokenize content"
   ]
  },
  {
   "cell_type": "code",
   "execution_count": 53,
   "metadata": {},
   "outputs": [],
   "source": [
    "vocab_size=5000\n",
    "tokenizer=feature_extraction.text.CountVectorizer(stop_words='english', max_features=vocab_size)\n",
    "tokenizer=tokenizer.fit(df['content'])"
   ]
  },
  {
   "cell_type": "code",
   "execution_count": 119,
   "metadata": {},
   "outputs": [],
   "source": [
    "Xrand_train_tok=tokenizer.transform(Xrand_train['content'])\n",
    "Xrand_val_tok=tokenizer.transform(Xrand_val['content'])\n",
    "Xrand_test_tok=tokenizer.transform(Xrand_test['content'])\n",
    "\n",
    "Xtemp_train_tok=tokenizer.transform(Xtemp_train['content'])\n",
    "Xtemp_val_tok=tokenizer.transform(Xtemp_val['content'])\n",
    "Xtemp_test_tok=tokenizer.transform(Xtemp_test['content'])"
   ]
  },
  {
   "cell_type": "code",
   "execution_count": 123,
   "metadata": {},
   "outputs": [
    {
     "data": {
      "text/plain": [
       "(266003, 5000)"
      ]
     },
     "execution_count": 123,
     "metadata": {},
     "output_type": "execute_result"
    }
   ],
   "source": [
    "Xrand_train_tok.shape # token matrix dim = n x vocab_size"
   ]
  },
  {
   "cell_type": "markdown",
   "metadata": {},
   "source": [
    "### Standardize followers/following"
   ]
  },
  {
   "cell_type": "code",
   "execution_count": 125,
   "metadata": {},
   "outputs": [],
   "source": [
    "# one for each split\n",
    "rand_scaler = preprocessing.StandardScaler().fit(Xrand_train[['followers','following']])\n",
    "temp_scaler = preprocessing.StandardScaler().fit(Xtemp_train[['followers','following']])"
   ]
  },
  {
   "cell_type": "code",
   "execution_count": 126,
   "metadata": {},
   "outputs": [
    {
     "name": "stdout",
     "output_type": "stream",
     "text": [
      "rand means and scales: [8154.90645218 3016.03233422], [219679.05451009   7816.52064337]\n",
      "temp means and scales: [8757.68069533 3020.22409146], [219679.05451009   7816.52064337]\n"
     ]
    }
   ],
   "source": [
    "print('rand means and scales: {}, {}'.format(rand_scaler.mean_, rand_scaler.scale_))\n",
    "print('temp means and scales: {}, {}'.format(temp_scaler.mean_, rand_scaler.scale_))"
   ]
  },
  {
   "cell_type": "markdown",
   "metadata": {},
   "source": [
    "They are very close. Could probably just use a single one, but I will use both anyways, in case it makes a difference."
   ]
  },
  {
   "cell_type": "code",
   "execution_count": 127,
   "metadata": {},
   "outputs": [],
   "source": [
    "col_to_std = ['followers', 'following']\n",
    "Xrand_train[col_to_std]=rand_scaler.transform(Xrand_train[col_to_std])\n",
    "Xrand_val[col_to_std]=rand_scaler.transform(Xrand_val[col_to_std])\n",
    "Xrand_test[col_to_std]=rand_scaler.transform(Xrand_test[col_to_std])\n",
    "\n",
    "Xtemp_train[col_to_std]=temp_scaler.transform(Xtemp_train[col_to_std])\n",
    "Xtemp_val[col_to_std]=temp_scaler.transform(Xtemp_val[col_to_std])\n",
    "Xtemp_test[col_to_std]=temp_scaler.transform(Xtemp_test[col_to_std])"
   ]
  },
  {
   "cell_type": "code",
   "execution_count": 155,
   "metadata": {},
   "outputs": [
    {
     "data": {
      "text/html": [
       "<div>\n",
       "<style scoped>\n",
       "    .dataframe tbody tr th:only-of-type {\n",
       "        vertical-align: middle;\n",
       "    }\n",
       "\n",
       "    .dataframe tbody tr th {\n",
       "        vertical-align: top;\n",
       "    }\n",
       "\n",
       "    .dataframe thead th {\n",
       "        text-align: right;\n",
       "    }\n",
       "</style>\n",
       "<table border=\"1\" class=\"dataframe\">\n",
       "  <thead>\n",
       "    <tr style=\"text-align: right;\">\n",
       "      <th></th>\n",
       "      <th>followers</th>\n",
       "      <th>following</th>\n",
       "    </tr>\n",
       "  </thead>\n",
       "  <tbody>\n",
       "    <tr>\n",
       "      <th>204024</th>\n",
       "      <td>0.028997</td>\n",
       "      <td>0.037736</td>\n",
       "    </tr>\n",
       "    <tr>\n",
       "      <th>45854</th>\n",
       "      <td>-0.023074</td>\n",
       "      <td>-0.080475</td>\n",
       "    </tr>\n",
       "    <tr>\n",
       "      <th>199686</th>\n",
       "      <td>-0.032037</td>\n",
       "      <td>0.092876</td>\n",
       "    </tr>\n",
       "    <tr>\n",
       "      <th>115712</th>\n",
       "      <td>-0.032861</td>\n",
       "      <td>-0.311396</td>\n",
       "    </tr>\n",
       "    <tr>\n",
       "      <th>245728</th>\n",
       "      <td>-0.023962</td>\n",
       "      <td>-0.179240</td>\n",
       "    </tr>\n",
       "  </tbody>\n",
       "</table>\n",
       "</div>"
      ],
      "text/plain": [
       "        followers  following\n",
       "204024   0.028997   0.037736\n",
       "45854   -0.023074  -0.080475\n",
       "199686  -0.032037   0.092876\n",
       "115712  -0.032861  -0.311396\n",
       "245728  -0.023962  -0.179240"
      ]
     },
     "execution_count": 155,
     "metadata": {},
     "output_type": "execute_result"
    }
   ],
   "source": [
    "Xrand_train[col_to_std].head()"
   ]
  },
  {
   "cell_type": "markdown",
   "metadata": {},
   "source": [
    "### Binarize the boolean outcome"
   ]
  },
  {
   "cell_type": "code",
   "execution_count": 129,
   "metadata": {},
   "outputs": [
    {
     "data": {
      "text/html": [
       "<div>\n",
       "<style scoped>\n",
       "    .dataframe tbody tr th:only-of-type {\n",
       "        vertical-align: middle;\n",
       "    }\n",
       "\n",
       "    .dataframe tbody tr th {\n",
       "        vertical-align: top;\n",
       "    }\n",
       "\n",
       "    .dataframe thead th {\n",
       "        text-align: right;\n",
       "    }\n",
       "</style>\n",
       "<table border=\"1\" class=\"dataframe\">\n",
       "  <thead>\n",
       "    <tr style=\"text-align: right;\">\n",
       "      <th></th>\n",
       "      <th>troll</th>\n",
       "    </tr>\n",
       "  </thead>\n",
       "  <tbody>\n",
       "    <tr>\n",
       "      <th>204024</th>\n",
       "      <td>False</td>\n",
       "    </tr>\n",
       "    <tr>\n",
       "      <th>45854</th>\n",
       "      <td>True</td>\n",
       "    </tr>\n",
       "    <tr>\n",
       "      <th>199686</th>\n",
       "      <td>False</td>\n",
       "    </tr>\n",
       "    <tr>\n",
       "      <th>115712</th>\n",
       "      <td>True</td>\n",
       "    </tr>\n",
       "    <tr>\n",
       "      <th>245728</th>\n",
       "      <td>False</td>\n",
       "    </tr>\n",
       "  </tbody>\n",
       "</table>\n",
       "</div>"
      ],
      "text/plain": [
       "        troll\n",
       "204024  False\n",
       "45854    True\n",
       "199686  False\n",
       "115712   True\n",
       "245728  False"
      ]
     },
     "execution_count": 129,
     "metadata": {},
     "output_type": "execute_result"
    }
   ],
   "source": [
    "yrand_train.head()"
   ]
  },
  {
   "cell_type": "code",
   "execution_count": 130,
   "metadata": {},
   "outputs": [
    {
     "data": {
      "text/html": [
       "<div>\n",
       "<style scoped>\n",
       "    .dataframe tbody tr th:only-of-type {\n",
       "        vertical-align: middle;\n",
       "    }\n",
       "\n",
       "    .dataframe tbody tr th {\n",
       "        vertical-align: top;\n",
       "    }\n",
       "\n",
       "    .dataframe thead th {\n",
       "        text-align: right;\n",
       "    }\n",
       "</style>\n",
       "<table border=\"1\" class=\"dataframe\">\n",
       "  <thead>\n",
       "    <tr style=\"text-align: right;\">\n",
       "      <th></th>\n",
       "      <th>troll</th>\n",
       "    </tr>\n",
       "  </thead>\n",
       "  <tbody>\n",
       "    <tr>\n",
       "      <th>204024</th>\n",
       "      <td>0</td>\n",
       "    </tr>\n",
       "    <tr>\n",
       "      <th>45854</th>\n",
       "      <td>1</td>\n",
       "    </tr>\n",
       "    <tr>\n",
       "      <th>199686</th>\n",
       "      <td>0</td>\n",
       "    </tr>\n",
       "    <tr>\n",
       "      <th>115712</th>\n",
       "      <td>1</td>\n",
       "    </tr>\n",
       "    <tr>\n",
       "      <th>245728</th>\n",
       "      <td>0</td>\n",
       "    </tr>\n",
       "  </tbody>\n",
       "</table>\n",
       "</div>"
      ],
      "text/plain": [
       "        troll\n",
       "204024      0\n",
       "45854       1\n",
       "199686      0\n",
       "115712      1\n",
       "245728      0"
      ]
     },
     "execution_count": 130,
     "metadata": {},
     "output_type": "execute_result"
    }
   ],
   "source": [
    "bool_to_bin = lambda x: 1 if x else 0\n",
    "yrand_train['troll'] = yrand_train['troll'].apply(bool_to_bin)\n",
    "yrand_train.head()"
   ]
  },
  {
   "cell_type": "code",
   "execution_count": 131,
   "metadata": {},
   "outputs": [],
   "source": [
    "yrand_val['troll'] = yrand_val['troll'].apply(bool_to_bin)\n",
    "yrand_test['troll'] = yrand_test['troll'].apply(bool_to_bin)\n",
    "\n",
    "ytemp_train['troll'] = ytemp_train['troll'].apply(bool_to_bin)\n",
    "ytemp_val['troll'] = ytemp_val['troll'].apply(bool_to_bin)\n",
    "ytemp_test['troll'] = ytemp_test['troll'].apply(bool_to_bin)"
   ]
  },
  {
   "cell_type": "markdown",
   "metadata": {},
   "source": [
    "### Concatenate features"
   ]
  },
  {
   "cell_type": "code",
   "execution_count": 161,
   "metadata": {},
   "outputs": [],
   "source": [
    "def concatenate_features(tok_matrix, data_df):\n",
    "    \"\"\" concatenate the tokenized matrix (scipy.sparse) with other features \"\"\"\n",
    "    sparse_cols = sparse.csr_matrix(data_df[['followers', 'following', 'retweet']])\n",
    "    combined = sparse.hstack([tok_matrix, sparse_cols])\n",
    "    return combined"
   ]
  },
  {
   "cell_type": "code",
   "execution_count": 164,
   "metadata": {},
   "outputs": [],
   "source": [
    "Xrand_train_combined = concatenate_features(Xrand_train_tok, Xrand_train)\n",
    "Xrand_val_combined = concatenate_features(Xrand_val_tok, Xrand_val)\n",
    "Xrand_test_combined = concatenate_features(Xrand_test_tok, Xrand_test)\n",
    "\n",
    "Xtemp_train_combined = concatenate_features(Xtemp_train_tok, Xtemp_train)\n",
    "Xtemp_val_combined = concatenate_features(Xtemp_val_tok, Xtemp_val)\n",
    "Xtemp_test_combined = concatenate_features(Xtemp_test_tok, Xtemp_test)"
   ]
  },
  {
   "cell_type": "markdown",
   "metadata": {},
   "source": [
    "## Train the model(s)"
   ]
  },
  {
   "cell_type": "markdown",
   "metadata": {},
   "source": [
    "### Using only text"
   ]
  },
  {
   "cell_type": "code",
   "execution_count": 152,
   "metadata": {},
   "outputs": [],
   "source": [
    "# random split\n",
    "svm_model = svm.SVC().fit(Xrand_train_tok, yrand_train['troll'])"
   ]
  },
  {
   "cell_type": "code",
   "execution_count": 169,
   "metadata": {},
   "outputs": [
    {
     "data": {
      "text/plain": [
       "0.8563023725296331"
      ]
     },
     "execution_count": 169,
     "metadata": {},
     "output_type": "execute_result"
    }
   ],
   "source": [
    "svm_model.score(Xrand_train_tok, yrand_train['troll'])"
   ]
  },
  {
   "cell_type": "code",
   "execution_count": 153,
   "metadata": {},
   "outputs": [
    {
     "data": {
      "text/plain": [
       "0.8545563909774436"
      ]
     },
     "execution_count": 153,
     "metadata": {},
     "output_type": "execute_result"
    }
   ],
   "source": [
    "svm_model.score(Xrand_val_tok, yrand_val['troll'])"
   ]
  },
  {
   "cell_type": "code",
   "execution_count": 165,
   "metadata": {},
   "outputs": [
    {
     "data": {
      "text/plain": [
       "0.8563652220985835"
      ]
     },
     "execution_count": 165,
     "metadata": {},
     "output_type": "execute_result"
    }
   ],
   "source": [
    "svm_model.score(Xrand_test_tok, yrand_test['troll'])"
   ]
  },
  {
   "cell_type": "code",
   "execution_count": 166,
   "metadata": {},
   "outputs": [],
   "source": [
    "# temporal split\n",
    "svm_temp = svm.SVC().fit(Xtemp_train_tok, ytemp_train['troll'])"
   ]
  },
  {
   "cell_type": "code",
   "execution_count": 167,
   "metadata": {},
   "outputs": [
    {
     "data": {
      "text/plain": [
       "0.8595187969924812"
      ]
     },
     "execution_count": 167,
     "metadata": {},
     "output_type": "execute_result"
    }
   ],
   "source": [
    "svm_temp.score(Xtemp_val_tok, ytemp_val['troll'])"
   ]
  },
  {
   "cell_type": "code",
   "execution_count": 168,
   "metadata": {},
   "outputs": [
    {
     "data": {
      "text/plain": [
       "0.8649664671739196"
      ]
     },
     "execution_count": 168,
     "metadata": {},
     "output_type": "execute_result"
    }
   ],
   "source": [
    "svm_temp.score(Xtemp_test_tok, ytemp_test['troll'])"
   ]
  },
  {
   "cell_type": "markdown",
   "metadata": {},
   "source": [
    "### Using all features"
   ]
  },
  {
   "cell_type": "code",
   "execution_count": 171,
   "metadata": {},
   "outputs": [],
   "source": [
    "# random split\n",
    "svm_rand_all = svm.SVC().fit(Xrand_train_combined, yrand_train['troll'])"
   ]
  },
  {
   "cell_type": "code",
   "execution_count": 176,
   "metadata": {},
   "outputs": [
    {
     "data": {
      "text/plain": [
       "0.9306173238647685"
      ]
     },
     "execution_count": 176,
     "metadata": {},
     "output_type": "execute_result"
    }
   ],
   "source": [
    "svm_rand_all.score(Xrand_train_combined, yrand_train['troll'])"
   ]
  },
  {
   "cell_type": "code",
   "execution_count": 173,
   "metadata": {},
   "outputs": [
    {
     "data": {
      "text/plain": [
       "0.928693873868455"
      ]
     },
     "execution_count": 173,
     "metadata": {},
     "output_type": "execute_result"
    }
   ],
   "source": [
    "svm_rand_all.score(Xrand_test_combined, yrand_test['troll'])"
   ]
  },
  {
   "cell_type": "code",
   "execution_count": 174,
   "metadata": {},
   "outputs": [],
   "source": [
    "# temporal split\n",
    "svm_temp_all = svm.SVC().fit(Xtemp_train_combined, ytemp_train['troll'])"
   ]
  },
  {
   "cell_type": "code",
   "execution_count": null,
   "metadata": {},
   "outputs": [],
   "source": [
    "svm_temp_all.score(Xtemp_train_combined, ytemp_train['troll'])"
   ]
  },
  {
   "cell_type": "code",
   "execution_count": 175,
   "metadata": {},
   "outputs": [
    {
     "data": {
      "text/plain": [
       "0.8745902378875823"
      ]
     },
     "execution_count": 175,
     "metadata": {},
     "output_type": "execute_result"
    }
   ],
   "source": [
    "svm_temp_all.score(Xtemp_test_combined, ytemp_test['troll'])"
   ]
  }
 ],
 "metadata": {
  "kernelspec": {
   "display_name": "Python 3",
   "language": "python",
   "name": "python3"
  },
  "language_info": {
   "codemirror_mode": {
    "name": "ipython",
    "version": 3
   },
   "file_extension": ".py",
   "mimetype": "text/x-python",
   "name": "python",
   "nbconvert_exporter": "python",
   "pygments_lexer": "ipython3",
   "version": "3.6.5"
  }
 },
 "nbformat": 4,
 "nbformat_minor": 2
}
